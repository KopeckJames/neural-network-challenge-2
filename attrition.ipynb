{
  "cells": [
    {
      "cell_type": "markdown",
      "metadata": {
        "id": "alIIEHibGc3M"
      },
      "source": [
        "## Part 1: Preprocessing"
      ]
    },
    {
      "cell_type": "code",
      "execution_count": 128,
      "metadata": {
        "colab": {
          "base_uri": "https://localhost:8080/",
          "height": 325
        },
        "id": "6eDUJ4NtGc3P",
        "outputId": "2480098c-135c-4cbf-9552-018494ee8ff5"
      },
      "outputs": [
        {
          "data": {
            "text/html": [
              "<div>\n",
              "<style scoped>\n",
              "    .dataframe tbody tr th:only-of-type {\n",
              "        vertical-align: middle;\n",
              "    }\n",
              "\n",
              "    .dataframe tbody tr th {\n",
              "        vertical-align: top;\n",
              "    }\n",
              "\n",
              "    .dataframe thead th {\n",
              "        text-align: right;\n",
              "    }\n",
              "</style>\n",
              "<table border=\"1\" class=\"dataframe\">\n",
              "  <thead>\n",
              "    <tr style=\"text-align: right;\">\n",
              "      <th></th>\n",
              "      <th>Age</th>\n",
              "      <th>Attrition</th>\n",
              "      <th>BusinessTravel</th>\n",
              "      <th>Department</th>\n",
              "      <th>DistanceFromHome</th>\n",
              "      <th>Education</th>\n",
              "      <th>EducationField</th>\n",
              "      <th>EnvironmentSatisfaction</th>\n",
              "      <th>HourlyRate</th>\n",
              "      <th>JobInvolvement</th>\n",
              "      <th>...</th>\n",
              "      <th>PerformanceRating</th>\n",
              "      <th>RelationshipSatisfaction</th>\n",
              "      <th>StockOptionLevel</th>\n",
              "      <th>TotalWorkingYears</th>\n",
              "      <th>TrainingTimesLastYear</th>\n",
              "      <th>WorkLifeBalance</th>\n",
              "      <th>YearsAtCompany</th>\n",
              "      <th>YearsInCurrentRole</th>\n",
              "      <th>YearsSinceLastPromotion</th>\n",
              "      <th>YearsWithCurrManager</th>\n",
              "    </tr>\n",
              "  </thead>\n",
              "  <tbody>\n",
              "    <tr>\n",
              "      <th>0</th>\n",
              "      <td>41</td>\n",
              "      <td>Yes</td>\n",
              "      <td>Travel_Rarely</td>\n",
              "      <td>Sales</td>\n",
              "      <td>1</td>\n",
              "      <td>2</td>\n",
              "      <td>Life Sciences</td>\n",
              "      <td>2</td>\n",
              "      <td>94</td>\n",
              "      <td>3</td>\n",
              "      <td>...</td>\n",
              "      <td>3</td>\n",
              "      <td>1</td>\n",
              "      <td>0</td>\n",
              "      <td>8</td>\n",
              "      <td>0</td>\n",
              "      <td>1</td>\n",
              "      <td>6</td>\n",
              "      <td>4</td>\n",
              "      <td>0</td>\n",
              "      <td>5</td>\n",
              "    </tr>\n",
              "    <tr>\n",
              "      <th>1</th>\n",
              "      <td>49</td>\n",
              "      <td>No</td>\n",
              "      <td>Travel_Frequently</td>\n",
              "      <td>Research &amp; Development</td>\n",
              "      <td>8</td>\n",
              "      <td>1</td>\n",
              "      <td>Life Sciences</td>\n",
              "      <td>3</td>\n",
              "      <td>61</td>\n",
              "      <td>2</td>\n",
              "      <td>...</td>\n",
              "      <td>4</td>\n",
              "      <td>4</td>\n",
              "      <td>1</td>\n",
              "      <td>10</td>\n",
              "      <td>3</td>\n",
              "      <td>3</td>\n",
              "      <td>10</td>\n",
              "      <td>7</td>\n",
              "      <td>1</td>\n",
              "      <td>7</td>\n",
              "    </tr>\n",
              "    <tr>\n",
              "      <th>2</th>\n",
              "      <td>37</td>\n",
              "      <td>Yes</td>\n",
              "      <td>Travel_Rarely</td>\n",
              "      <td>Research &amp; Development</td>\n",
              "      <td>2</td>\n",
              "      <td>2</td>\n",
              "      <td>Other</td>\n",
              "      <td>4</td>\n",
              "      <td>92</td>\n",
              "      <td>2</td>\n",
              "      <td>...</td>\n",
              "      <td>3</td>\n",
              "      <td>2</td>\n",
              "      <td>0</td>\n",
              "      <td>7</td>\n",
              "      <td>3</td>\n",
              "      <td>3</td>\n",
              "      <td>0</td>\n",
              "      <td>0</td>\n",
              "      <td>0</td>\n",
              "      <td>0</td>\n",
              "    </tr>\n",
              "    <tr>\n",
              "      <th>3</th>\n",
              "      <td>33</td>\n",
              "      <td>No</td>\n",
              "      <td>Travel_Frequently</td>\n",
              "      <td>Research &amp; Development</td>\n",
              "      <td>3</td>\n",
              "      <td>4</td>\n",
              "      <td>Life Sciences</td>\n",
              "      <td>4</td>\n",
              "      <td>56</td>\n",
              "      <td>3</td>\n",
              "      <td>...</td>\n",
              "      <td>3</td>\n",
              "      <td>3</td>\n",
              "      <td>0</td>\n",
              "      <td>8</td>\n",
              "      <td>3</td>\n",
              "      <td>3</td>\n",
              "      <td>8</td>\n",
              "      <td>7</td>\n",
              "      <td>3</td>\n",
              "      <td>0</td>\n",
              "    </tr>\n",
              "    <tr>\n",
              "      <th>4</th>\n",
              "      <td>27</td>\n",
              "      <td>No</td>\n",
              "      <td>Travel_Rarely</td>\n",
              "      <td>Research &amp; Development</td>\n",
              "      <td>2</td>\n",
              "      <td>1</td>\n",
              "      <td>Medical</td>\n",
              "      <td>1</td>\n",
              "      <td>40</td>\n",
              "      <td>3</td>\n",
              "      <td>...</td>\n",
              "      <td>3</td>\n",
              "      <td>4</td>\n",
              "      <td>1</td>\n",
              "      <td>6</td>\n",
              "      <td>3</td>\n",
              "      <td>3</td>\n",
              "      <td>2</td>\n",
              "      <td>2</td>\n",
              "      <td>2</td>\n",
              "      <td>2</td>\n",
              "    </tr>\n",
              "  </tbody>\n",
              "</table>\n",
              "<p>5 rows × 27 columns</p>\n",
              "</div>"
            ],
            "text/plain": [
              "   Age Attrition     BusinessTravel              Department  DistanceFromHome  \\\n",
              "0   41       Yes      Travel_Rarely                   Sales                 1   \n",
              "1   49        No  Travel_Frequently  Research & Development                 8   \n",
              "2   37       Yes      Travel_Rarely  Research & Development                 2   \n",
              "3   33        No  Travel_Frequently  Research & Development                 3   \n",
              "4   27        No      Travel_Rarely  Research & Development                 2   \n",
              "\n",
              "   Education EducationField  EnvironmentSatisfaction  HourlyRate  \\\n",
              "0          2  Life Sciences                        2          94   \n",
              "1          1  Life Sciences                        3          61   \n",
              "2          2          Other                        4          92   \n",
              "3          4  Life Sciences                        4          56   \n",
              "4          1        Medical                        1          40   \n",
              "\n",
              "   JobInvolvement  ...  PerformanceRating RelationshipSatisfaction  \\\n",
              "0               3  ...                  3                        1   \n",
              "1               2  ...                  4                        4   \n",
              "2               2  ...                  3                        2   \n",
              "3               3  ...                  3                        3   \n",
              "4               3  ...                  3                        4   \n",
              "\n",
              "   StockOptionLevel TotalWorkingYears  TrainingTimesLastYear WorkLifeBalance  \\\n",
              "0                 0                 8                      0               1   \n",
              "1                 1                10                      3               3   \n",
              "2                 0                 7                      3               3   \n",
              "3                 0                 8                      3               3   \n",
              "4                 1                 6                      3               3   \n",
              "\n",
              "   YearsAtCompany  YearsInCurrentRole  YearsSinceLastPromotion  \\\n",
              "0               6                   4                        0   \n",
              "1              10                   7                        1   \n",
              "2               0                   0                        0   \n",
              "3               8                   7                        3   \n",
              "4               2                   2                        2   \n",
              "\n",
              "   YearsWithCurrManager  \n",
              "0                     5  \n",
              "1                     7  \n",
              "2                     0  \n",
              "3                     0  \n",
              "4                     2  \n",
              "\n",
              "[5 rows x 27 columns]"
            ]
          },
          "execution_count": 128,
          "metadata": {},
          "output_type": "execute_result"
        }
      ],
      "source": [
        "# Import our dependencies\n",
        "from sklearn.model_selection import train_test_split\n",
        "from sklearn.preprocessing import StandardScaler\n",
        "import pandas as pd\n",
        "import numpy as np\n",
        "from tensorflow.keras.models import Model\n",
        "from tensorflow.keras import layers\n",
        "\n",
        "#  Import and read the attrition data\n",
        "attrition_df = pd.read_csv('https://static.bc-edx.com/ai/ail-v-1-0/m19/lms/datasets/attrition.csv')\n",
        "attrition_df.head()"
      ]
    },
    {
      "cell_type": "code",
      "execution_count": 129,
      "metadata": {
        "colab": {
          "base_uri": "https://localhost:8080/"
        },
        "id": "g22aQSY4Gc3Q",
        "outputId": "1f5c13c1-b981-4e40-a7ed-dd3fe6f1b81e"
      },
      "outputs": [
        {
          "data": {
            "text/plain": [
              "Age                         43\n",
              "Attrition                    2\n",
              "BusinessTravel               3\n",
              "Department                   3\n",
              "DistanceFromHome            29\n",
              "Education                    5\n",
              "EducationField               6\n",
              "EnvironmentSatisfaction      4\n",
              "HourlyRate                  71\n",
              "JobInvolvement               4\n",
              "JobLevel                     5\n",
              "JobRole                      9\n",
              "JobSatisfaction              4\n",
              "MaritalStatus                3\n",
              "NumCompaniesWorked          10\n",
              "OverTime                     2\n",
              "PercentSalaryHike           15\n",
              "PerformanceRating            2\n",
              "RelationshipSatisfaction     4\n",
              "StockOptionLevel             4\n",
              "TotalWorkingYears           40\n",
              "TrainingTimesLastYear        7\n",
              "WorkLifeBalance              4\n",
              "YearsAtCompany              37\n",
              "YearsInCurrentRole          19\n",
              "YearsSinceLastPromotion     16\n",
              "YearsWithCurrManager        18\n",
              "dtype: int64"
            ]
          },
          "execution_count": 129,
          "metadata": {},
          "output_type": "execute_result"
        }
      ],
      "source": [
        "# Determine the number of unique values in each column.\n",
        "attrition_df.nunique()"
      ]
    },
    {
      "cell_type": "code",
      "execution_count": 130,
      "metadata": {},
      "outputs": [
        {
          "data": {
            "text/plain": [
              "Age                          int64\n",
              "Attrition                   object\n",
              "BusinessTravel              object\n",
              "Department                  object\n",
              "DistanceFromHome             int64\n",
              "Education                    int64\n",
              "EducationField              object\n",
              "EnvironmentSatisfaction      int64\n",
              "HourlyRate                   int64\n",
              "JobInvolvement               int64\n",
              "JobLevel                     int64\n",
              "JobRole                     object\n",
              "JobSatisfaction              int64\n",
              "MaritalStatus               object\n",
              "NumCompaniesWorked           int64\n",
              "OverTime                    object\n",
              "PercentSalaryHike            int64\n",
              "PerformanceRating            int64\n",
              "RelationshipSatisfaction     int64\n",
              "StockOptionLevel             int64\n",
              "TotalWorkingYears            int64\n",
              "TrainingTimesLastYear        int64\n",
              "WorkLifeBalance              int64\n",
              "YearsAtCompany               int64\n",
              "YearsInCurrentRole           int64\n",
              "YearsSinceLastPromotion      int64\n",
              "YearsWithCurrManager         int64\n",
              "dtype: object"
            ]
          },
          "execution_count": 130,
          "metadata": {},
          "output_type": "execute_result"
        }
      ],
      "source": [
        "attrition_df.dtypes\n"
      ]
    },
    {
      "cell_type": "code",
      "execution_count": 131,
      "metadata": {
        "id": "50vMgBEnJbfM"
      },
      "outputs": [
        {
          "data": {
            "text/plain": [
              "Attrition     object\n",
              "Department    object\n",
              "dtype: object"
            ]
          },
          "execution_count": 131,
          "metadata": {},
          "output_type": "execute_result"
        }
      ],
      "source": [
        "# Create y_df with the Attrition and Department columns\n",
        "y_df = attrition_df[['Attrition','Department']]\n",
        "y_df.head()\n",
        "y_df.dtypes"
      ]
    },
    {
      "cell_type": "code",
      "execution_count": 132,
      "metadata": {
        "colab": {
          "base_uri": "https://localhost:8080/"
        },
        "id": "Virka0zLGc3R",
        "outputId": "dd5aee3a-9458-4ba6-e857-1b234de40915"
      },
      "outputs": [
        {
          "name": "stdout",
          "output_type": "stream",
          "text": [
            "Education                   int64\n",
            "Age                         int64\n",
            "DistanceFromHome            int64\n",
            "JobSatisfaction             int64\n",
            "OverTime                   object\n",
            "StockOptionLevel            int64\n",
            "WorkLifeBalance             int64\n",
            "YearsAtCompany              int64\n",
            "YearsSinceLastPromotion     int64\n",
            "NumCompaniesWorked          int64\n",
            "dtype: object\n"
          ]
        }
      ],
      "source": [
        "# Create a list of at least 10 column names to use as X data\n",
        "X_data =[\n",
        "'Education',\n",
        "'Age',\n",
        "'DistanceFromHome',\n",
        "'JobSatisfaction', \n",
        "'OverTime',\n",
        "'StockOptionLevel',\n",
        "'WorkLifeBalance',\n",
        "'YearsAtCompany',\n",
        "'YearsSinceLastPromotion',\n",
        "'NumCompaniesWorked']\n",
        "\n",
        "\n",
        "# Create X_df using your selected columns\n",
        "X_df=attrition_df[X_data]\n",
        "\n",
        "# Show the data types for X_df\n",
        "\n",
        "print(X_df.dtypes)"
      ]
    },
    {
      "cell_type": "code",
      "execution_count": 133,
      "metadata": {
        "id": "KaJfdOGUMHMR"
      },
      "outputs": [],
      "source": [
        "# Split the data into training and testing sets\n",
        "from sklearn.model_selection import train_test_split\n",
        "X_train, X_test, y_train, y_test = train_test_split(X_df, y_df, test_size=0.2, random_state=42)\n"
      ]
    },
    {
      "cell_type": "code",
      "execution_count": 134,
      "metadata": {},
      "outputs": [
        {
          "data": {
            "text/plain": [
              "0       Yes\n",
              "1        No\n",
              "2       Yes\n",
              "3       Yes\n",
              "4        No\n",
              "       ... \n",
              "1465     No\n",
              "1466     No\n",
              "1467    Yes\n",
              "1468     No\n",
              "1469     No\n",
              "Name: OverTime, Length: 1470, dtype: object"
            ]
          },
          "execution_count": 134,
          "metadata": {},
          "output_type": "execute_result"
        }
      ],
      "source": [
        "X_df['OverTime']"
      ]
    },
    {
      "cell_type": "code",
      "execution_count": 135,
      "metadata": {
        "colab": {
          "base_uri": "https://localhost:8080/"
        },
        "id": "NYubUJqiLCSp",
        "outputId": "53f31721-571c-4c94-d13e-25a715749593"
      },
      "outputs": [
        {
          "name": "stdout",
          "output_type": "stream",
          "text": [
            "New data types after conversion:\n",
            "Education                     int32\n",
            "Age                           int32\n",
            "DistanceFromHome            float32\n",
            "JobSatisfaction               int32\n",
            "OverTime                   category\n",
            "StockOptionLevel              int32\n",
            "WorkLifeBalance               int32\n",
            "YearsAtCompany                int32\n",
            "YearsSinceLastPromotion       int32\n",
            "NumCompaniesWorked            int32\n",
            "dtype: object\n",
            "\n",
            "\n",
            "Non-numeric columns: ['OverTime']\n",
            "\n",
            "First few rows of processed X_df:\n",
            "   Education  Age  DistanceFromHome  JobSatisfaction OverTime  \\\n",
            "0          2   41               1.0                4      Yes   \n",
            "1          1   49               8.0                2       No   \n",
            "2          2   37               2.0                3      Yes   \n",
            "3          4   33               3.0                3      Yes   \n",
            "4          1   27               2.0                2       No   \n",
            "\n",
            "   StockOptionLevel  WorkLifeBalance  YearsAtCompany  YearsSinceLastPromotion  \\\n",
            "0                 0                1               6                        0   \n",
            "1                 1                3              10                        1   \n",
            "2                 0                3               0                        0   \n",
            "3                 0                3               8                        3   \n",
            "4                 1                3               2                        2   \n",
            "\n",
            "   NumCompaniesWorked  \n",
            "0                   8  \n",
            "1                   1  \n",
            "2                   6  \n",
            "3                   1  \n",
            "4                   9  \n"
          ]
        }
      ],
      "source": [
        "# Convert your X data to numeric data types however you see fit\n",
        "X_df = X_df.astype({\n",
        "    'Education': 'int32',\n",
        "    'Age': 'int32',\n",
        "    'DistanceFromHome': 'float32',\n",
        "    'JobSatisfaction': 'int32',\n",
        "    'OverTime': 'category',  \n",
        "    'StockOptionLevel': 'int32',\n",
        "    'WorkLifeBalance': 'int32',\n",
        "    'YearsAtCompany': 'int32',\n",
        "    'YearsSinceLastPromotion': 'int32',\n",
        "    'NumCompaniesWorked': 'int32'\n",
        "})\n",
        "\n",
        "# Show the new data types\n",
        "print(\"New data types after conversion:\")\n",
        "print(X_df.dtypes)\n",
        "print(\"\\n\")\n",
        "\n",
        "# Check for any remaining non-numeric columns\n",
        "non_numeric = X_df.select_dtypes(exclude=[np.number]).columns\n",
        "if len(non_numeric) > 0:\n",
        "    print(f\"Non-numeric columns: {list(non_numeric)}\")\n",
        "else:\n",
        "    print(\"All columns are numeric except for 'OverTime' which is categorical.\")\n",
        "\n",
        "# Display the first few rows of the processed DataFrame\n",
        "print(\"\\nFirst few rows of processed X_df:\")\n",
        "print(X_df.head())"
      ]
    },
    {
      "cell_type": "code",
      "execution_count": 136,
      "metadata": {},
      "outputs": [],
      "source": [
        "# Encode 'OverTime' \n",
        "\n",
        "\n",
        "if 'OverTime' in X_train.columns:\n",
        "    X_train['OverTime'] = X_train['OverTime'].map({'No': 0, 'Yes': 1})\n",
        "    X_test['OverTime'] = X_test['OverTime'].map({'No': 0, 'Yes': 1})"
      ]
    },
    {
      "cell_type": "code",
      "execution_count": 137,
      "metadata": {},
      "outputs": [
        {
          "data": {
            "text/plain": [
              "Education                     int32\n",
              "Age                           int32\n",
              "DistanceFromHome            float32\n",
              "JobSatisfaction               int32\n",
              "OverTime                   category\n",
              "StockOptionLevel              int32\n",
              "WorkLifeBalance               int32\n",
              "YearsAtCompany                int32\n",
              "YearsSinceLastPromotion       int32\n",
              "NumCompaniesWorked            int32\n",
              "dtype: object"
            ]
          },
          "execution_count": 137,
          "metadata": {},
          "output_type": "execute_result"
        }
      ],
      "source": [
        "X_df['OverTime'] = X_df['OverTime'].map({'No': 0, 'Yes': 1, np.nan: -1})\n",
        "X_df.dtypes"
      ]
    },
    {
      "cell_type": "code",
      "execution_count": 138,
      "metadata": {
        "id": "EWA-aIA5Gc3T"
      },
      "outputs": [],
      "source": [
        "# Create a StandardScaler\n",
        "scaler = StandardScaler()\n",
        "\n",
        "# Fit the StandardScaler to the training data\n",
        "scaler.fit(X_train)\n",
        "\n",
        "# Scale the training and testing data\n",
        "X_train_scaled = scaler.transform(X_train)\n",
        "X_test_scaled = scaler.transform(X_test)\n"
      ]
    },
    {
      "cell_type": "code",
      "execution_count": 139,
      "metadata": {
        "colab": {
          "base_uri": "https://localhost:8080/"
        },
        "id": "-z0Mky8vQSz4",
        "outputId": "debefc85-c20b-48f5-f4d9-91eadd65d36a"
      },
      "outputs": [],
      "source": [
        "from sklearn.preprocessing import OneHotEncoder\n",
        "# Create a OneHotEncoder for the Department column\n",
        "\n",
        "dept_encoder = OneHotEncoder()\n",
        "# Fit the encoder to the training data\n",
        "dept_encoder.fit(y_df[['Department']])\n",
        "\n",
        "# Create two new variables by applying the encoder\n",
        "# to the training and testing data\n",
        "y_train_dept_encoded = dept_encoder.transform(y_train[['Department']])\n",
        "y_test_dept_encoded = dept_encoder.transform(y_test[['Department']])\n"
      ]
    },
    {
      "cell_type": "code",
      "execution_count": 140,
      "metadata": {
        "colab": {
          "base_uri": "https://localhost:8080/"
        },
        "id": "-G4DSpvFRrk4",
        "outputId": "9842e948-8a55-4b80-8fac-f96714e85589"
      },
      "outputs": [],
      "source": [
        "# Create a OneHotEncoder for the Attrition column\n",
        "attrition_enconder = OneHotEncoder()\n",
        "# Fit the encoder to the training data\n",
        "attrition_enconder.fit(y_df[['Attrition']])\n",
        "\n",
        "# Create two new variables by applying the encoder\n",
        "# to the training and testing data\n",
        "y_train_att_encoded = attrition_enconder.transform(y_train[['Attrition']])\n",
        "y_test_att_encoded = attrition_enconder.transform(y_test[['Attrition']])\n"
      ]
    },
    {
      "cell_type": "markdown",
      "metadata": {
        "id": "ykNmu_WWGc3T"
      },
      "source": [
        "## Create, Compile, and Train the Model"
      ]
    },
    {
      "cell_type": "code",
      "execution_count": 141,
      "metadata": {
        "id": "WUptZqmSGc3T"
      },
      "outputs": [
        {
          "name": "stdout",
          "output_type": "stream",
          "text": [
            "Number of input features: 10\n"
          ]
        }
      ],
      "source": [
        "import tensorflow as tf\n",
        "from tensorflow.keras.models import Model\n",
        "from tensorflow.keras.layers import Input, Dense, BatchNormalization, Dropout\n",
        "# Find the number of columns in the X training data\n",
        "num_features = X_train.shape[1]\n",
        "print(f\"Number of input features: {num_features}\")\n",
        "# Create the input layer\n",
        "inputs = Input(shape=(num_features,), name='input_layer')\n",
        "\n",
        "# Create at least two shared layers\n",
        "x = Dense(64, activation='relu', name='dense_1')(inputs)\n",
        "x = Dense(32, activation='relu', name='dense_2')(x)"
      ]
    },
    {
      "cell_type": "code",
      "execution_count": 142,
      "metadata": {},
      "outputs": [
        {
          "data": {
            "text/html": [
              "<pre style=\"white-space:pre;overflow-x:auto;line-height:normal;font-family:Menlo,'DejaVu Sans Mono',consolas,'Courier New',monospace\"><span style=\"font-weight: bold\">Model: \"functional_1\"</span>\n",
              "</pre>\n"
            ],
            "text/plain": [
              "\u001b[1mModel: \"functional_1\"\u001b[0m\n"
            ]
          },
          "metadata": {},
          "output_type": "display_data"
        },
        {
          "data": {
            "text/html": [
              "<pre style=\"white-space:pre;overflow-x:auto;line-height:normal;font-family:Menlo,'DejaVu Sans Mono',consolas,'Courier New',monospace\">┏━━━━━━━━━━━━━━━━━━━━━━━━━━━━━━━━━┳━━━━━━━━━━━━━━━━━━━━━━━━┳━━━━━━━━━━━━━━━┓\n",
              "┃<span style=\"font-weight: bold\"> Layer (type)                    </span>┃<span style=\"font-weight: bold\"> Output Shape           </span>┃<span style=\"font-weight: bold\">       Param # </span>┃\n",
              "┡━━━━━━━━━━━━━━━━━━━━━━━━━━━━━━━━━╇━━━━━━━━━━━━━━━━━━━━━━━━╇━━━━━━━━━━━━━━━┩\n",
              "│ input_layer (<span style=\"color: #0087ff; text-decoration-color: #0087ff\">InputLayer</span>)        │ (<span style=\"color: #00d7ff; text-decoration-color: #00d7ff\">None</span>, <span style=\"color: #00af00; text-decoration-color: #00af00\">10</span>)             │             <span style=\"color: #00af00; text-decoration-color: #00af00\">0</span> │\n",
              "├─────────────────────────────────┼────────────────────────┼───────────────┤\n",
              "│ dense_1 (<span style=\"color: #0087ff; text-decoration-color: #0087ff\">Dense</span>)                 │ (<span style=\"color: #00d7ff; text-decoration-color: #00d7ff\">None</span>, <span style=\"color: #00af00; text-decoration-color: #00af00\">64</span>)             │           <span style=\"color: #00af00; text-decoration-color: #00af00\">704</span> │\n",
              "├─────────────────────────────────┼────────────────────────┼───────────────┤\n",
              "│ dense_2 (<span style=\"color: #0087ff; text-decoration-color: #0087ff\">Dense</span>)                 │ (<span style=\"color: #00d7ff; text-decoration-color: #00d7ff\">None</span>, <span style=\"color: #00af00; text-decoration-color: #00af00\">32</span>)             │         <span style=\"color: #00af00; text-decoration-color: #00af00\">2,080</span> │\n",
              "└─────────────────────────────────┴────────────────────────┴───────────────┘\n",
              "</pre>\n"
            ],
            "text/plain": [
              "┏━━━━━━━━━━━━━━━━━━━━━━━━━━━━━━━━━┳━━━━━━━━━━━━━━━━━━━━━━━━┳━━━━━━━━━━━━━━━┓\n",
              "┃\u001b[1m \u001b[0m\u001b[1mLayer (type)                   \u001b[0m\u001b[1m \u001b[0m┃\u001b[1m \u001b[0m\u001b[1mOutput Shape          \u001b[0m\u001b[1m \u001b[0m┃\u001b[1m \u001b[0m\u001b[1m      Param #\u001b[0m\u001b[1m \u001b[0m┃\n",
              "┡━━━━━━━━━━━━━━━━━━━━━━━━━━━━━━━━━╇━━━━━━━━━━━━━━━━━━━━━━━━╇━━━━━━━━━━━━━━━┩\n",
              "│ input_layer (\u001b[38;5;33mInputLayer\u001b[0m)        │ (\u001b[38;5;45mNone\u001b[0m, \u001b[38;5;34m10\u001b[0m)             │             \u001b[38;5;34m0\u001b[0m │\n",
              "├─────────────────────────────────┼────────────────────────┼───────────────┤\n",
              "│ dense_1 (\u001b[38;5;33mDense\u001b[0m)                 │ (\u001b[38;5;45mNone\u001b[0m, \u001b[38;5;34m64\u001b[0m)             │           \u001b[38;5;34m704\u001b[0m │\n",
              "├─────────────────────────────────┼────────────────────────┼───────────────┤\n",
              "│ dense_2 (\u001b[38;5;33mDense\u001b[0m)                 │ (\u001b[38;5;45mNone\u001b[0m, \u001b[38;5;34m32\u001b[0m)             │         \u001b[38;5;34m2,080\u001b[0m │\n",
              "└─────────────────────────────────┴────────────────────────┴───────────────┘\n"
            ]
          },
          "metadata": {},
          "output_type": "display_data"
        },
        {
          "data": {
            "text/html": [
              "<pre style=\"white-space:pre;overflow-x:auto;line-height:normal;font-family:Menlo,'DejaVu Sans Mono',consolas,'Courier New',monospace\"><span style=\"font-weight: bold\"> Total params: </span><span style=\"color: #00af00; text-decoration-color: #00af00\">2,784</span> (10.88 KB)\n",
              "</pre>\n"
            ],
            "text/plain": [
              "\u001b[1m Total params: \u001b[0m\u001b[38;5;34m2,784\u001b[0m (10.88 KB)\n"
            ]
          },
          "metadata": {},
          "output_type": "display_data"
        },
        {
          "data": {
            "text/html": [
              "<pre style=\"white-space:pre;overflow-x:auto;line-height:normal;font-family:Menlo,'DejaVu Sans Mono',consolas,'Courier New',monospace\"><span style=\"font-weight: bold\"> Trainable params: </span><span style=\"color: #00af00; text-decoration-color: #00af00\">2,784</span> (10.88 KB)\n",
              "</pre>\n"
            ],
            "text/plain": [
              "\u001b[1m Trainable params: \u001b[0m\u001b[38;5;34m2,784\u001b[0m (10.88 KB)\n"
            ]
          },
          "metadata": {},
          "output_type": "display_data"
        },
        {
          "data": {
            "text/html": [
              "<pre style=\"white-space:pre;overflow-x:auto;line-height:normal;font-family:Menlo,'DejaVu Sans Mono',consolas,'Courier New',monospace\"><span style=\"font-weight: bold\"> Non-trainable params: </span><span style=\"color: #00af00; text-decoration-color: #00af00\">0</span> (0.00 B)\n",
              "</pre>\n"
            ],
            "text/plain": [
              "\u001b[1m Non-trainable params: \u001b[0m\u001b[38;5;34m0\u001b[0m (0.00 B)\n"
            ]
          },
          "metadata": {},
          "output_type": "display_data"
        }
      ],
      "source": [
        "temp_model = Model(inputs=inputs, outputs=x)\n",
        "temp_model.summary()"
      ]
    },
    {
      "cell_type": "code",
      "execution_count": 143,
      "metadata": {
        "id": "JukjTm2yTEqd"
      },
      "outputs": [],
      "source": [
        "# Create a branch for Department\n",
        "# with a hidden layer and an output layer\n",
        "\n",
        "# Create the hidden layer\n",
        "dept_hidden = Dense(16, activation='relu', name='dept_hidden')(x)\n",
        "num_departments = len(y_train['Department'].unique())\n",
        "\n",
        "\n",
        "# Create the output layer\n",
        "dept_output = Dense(num_departments, activation='softmax', name='dept_output')(dept_hidden)\n"
      ]
    },
    {
      "cell_type": "code",
      "execution_count": 144,
      "metadata": {
        "id": "9OqhUiOJUBkR"
      },
      "outputs": [],
      "source": [
        "# Create a branch for Attrition\n",
        "# with a hidden layer and an output layer\n",
        "\n",
        "# Create the hidden layer\n",
        "attrition_hidden = Dense(8, activation='relu', name='attrition_hidden')(x)\n",
        "\n",
        "\n",
        "# Create the output layer\n",
        "attrition_output = Dense(1, activation='sigmoid', name='attrition_output')(attrition_hidden)\n",
        "\n"
      ]
    },
    {
      "cell_type": "code",
      "execution_count": 147,
      "metadata": {
        "colab": {
          "base_uri": "https://localhost:8080/"
        },
        "id": "twmuejdxGc3T",
        "outputId": "25096308-b68b-42e4-e4ea-ae82e97c435a"
      },
      "outputs": [
        {
          "data": {
            "text/html": [
              "<pre style=\"white-space:pre;overflow-x:auto;line-height:normal;font-family:Menlo,'DejaVu Sans Mono',consolas,'Courier New',monospace\"><span style=\"font-weight: bold\">Model: \"employee_prediction_model\"</span>\n",
              "</pre>\n"
            ],
            "text/plain": [
              "\u001b[1mModel: \"employee_prediction_model\"\u001b[0m\n"
            ]
          },
          "metadata": {},
          "output_type": "display_data"
        },
        {
          "data": {
            "text/html": [
              "<pre style=\"white-space:pre;overflow-x:auto;line-height:normal;font-family:Menlo,'DejaVu Sans Mono',consolas,'Courier New',monospace\">┏━━━━━━━━━━━━━━━━━━━━━┳━━━━━━━━━━━━━━━━━━━┳━━━━━━━━━━━━┳━━━━━━━━━━━━━━━━━━━┓\n",
              "┃<span style=\"font-weight: bold\"> Layer (type)        </span>┃<span style=\"font-weight: bold\"> Output Shape      </span>┃<span style=\"font-weight: bold\">    Param # </span>┃<span style=\"font-weight: bold\"> Connected to      </span>┃\n",
              "┡━━━━━━━━━━━━━━━━━━━━━╇━━━━━━━━━━━━━━━━━━━╇━━━━━━━━━━━━╇━━━━━━━━━━━━━━━━━━━┩\n",
              "│ input_layer         │ (<span style=\"color: #00d7ff; text-decoration-color: #00d7ff\">None</span>, <span style=\"color: #00af00; text-decoration-color: #00af00\">10</span>)        │          <span style=\"color: #00af00; text-decoration-color: #00af00\">0</span> │ -                 │\n",
              "│ (<span style=\"color: #0087ff; text-decoration-color: #0087ff\">InputLayer</span>)        │                   │            │                   │\n",
              "├─────────────────────┼───────────────────┼────────────┼───────────────────┤\n",
              "│ dense_1 (<span style=\"color: #0087ff; text-decoration-color: #0087ff\">Dense</span>)     │ (<span style=\"color: #00d7ff; text-decoration-color: #00d7ff\">None</span>, <span style=\"color: #00af00; text-decoration-color: #00af00\">64</span>)        │        <span style=\"color: #00af00; text-decoration-color: #00af00\">704</span> │ input_layer[<span style=\"color: #00af00; text-decoration-color: #00af00\">0</span>][<span style=\"color: #00af00; text-decoration-color: #00af00\">0</span>] │\n",
              "├─────────────────────┼───────────────────┼────────────┼───────────────────┤\n",
              "│ dense_2 (<span style=\"color: #0087ff; text-decoration-color: #0087ff\">Dense</span>)     │ (<span style=\"color: #00d7ff; text-decoration-color: #00d7ff\">None</span>, <span style=\"color: #00af00; text-decoration-color: #00af00\">32</span>)        │      <span style=\"color: #00af00; text-decoration-color: #00af00\">2,080</span> │ dense_1[<span style=\"color: #00af00; text-decoration-color: #00af00\">0</span>][<span style=\"color: #00af00; text-decoration-color: #00af00\">0</span>]     │\n",
              "├─────────────────────┼───────────────────┼────────────┼───────────────────┤\n",
              "│ dept_hidden (<span style=\"color: #0087ff; text-decoration-color: #0087ff\">Dense</span>) │ (<span style=\"color: #00d7ff; text-decoration-color: #00d7ff\">None</span>, <span style=\"color: #00af00; text-decoration-color: #00af00\">16</span>)        │        <span style=\"color: #00af00; text-decoration-color: #00af00\">528</span> │ dense_2[<span style=\"color: #00af00; text-decoration-color: #00af00\">0</span>][<span style=\"color: #00af00; text-decoration-color: #00af00\">0</span>]     │\n",
              "├─────────────────────┼───────────────────┼────────────┼───────────────────┤\n",
              "│ attrition_hidden    │ (<span style=\"color: #00d7ff; text-decoration-color: #00d7ff\">None</span>, <span style=\"color: #00af00; text-decoration-color: #00af00\">8</span>)         │        <span style=\"color: #00af00; text-decoration-color: #00af00\">264</span> │ dense_2[<span style=\"color: #00af00; text-decoration-color: #00af00\">0</span>][<span style=\"color: #00af00; text-decoration-color: #00af00\">0</span>]     │\n",
              "│ (<span style=\"color: #0087ff; text-decoration-color: #0087ff\">Dense</span>)             │                   │            │                   │\n",
              "├─────────────────────┼───────────────────┼────────────┼───────────────────┤\n",
              "│ dept_output (<span style=\"color: #0087ff; text-decoration-color: #0087ff\">Dense</span>) │ (<span style=\"color: #00d7ff; text-decoration-color: #00d7ff\">None</span>, <span style=\"color: #00af00; text-decoration-color: #00af00\">3</span>)         │         <span style=\"color: #00af00; text-decoration-color: #00af00\">51</span> │ dept_hidden[<span style=\"color: #00af00; text-decoration-color: #00af00\">0</span>][<span style=\"color: #00af00; text-decoration-color: #00af00\">0</span>] │\n",
              "├─────────────────────┼───────────────────┼────────────┼───────────────────┤\n",
              "│ attrition_output    │ (<span style=\"color: #00d7ff; text-decoration-color: #00d7ff\">None</span>, <span style=\"color: #00af00; text-decoration-color: #00af00\">1</span>)         │          <span style=\"color: #00af00; text-decoration-color: #00af00\">9</span> │ attrition_hidden… │\n",
              "│ (<span style=\"color: #0087ff; text-decoration-color: #0087ff\">Dense</span>)             │                   │            │                   │\n",
              "└─────────────────────┴───────────────────┴────────────┴───────────────────┘\n",
              "</pre>\n"
            ],
            "text/plain": [
              "┏━━━━━━━━━━━━━━━━━━━━━┳━━━━━━━━━━━━━━━━━━━┳━━━━━━━━━━━━┳━━━━━━━━━━━━━━━━━━━┓\n",
              "┃\u001b[1m \u001b[0m\u001b[1mLayer (type)       \u001b[0m\u001b[1m \u001b[0m┃\u001b[1m \u001b[0m\u001b[1mOutput Shape     \u001b[0m\u001b[1m \u001b[0m┃\u001b[1m \u001b[0m\u001b[1m   Param #\u001b[0m\u001b[1m \u001b[0m┃\u001b[1m \u001b[0m\u001b[1mConnected to     \u001b[0m\u001b[1m \u001b[0m┃\n",
              "┡━━━━━━━━━━━━━━━━━━━━━╇━━━━━━━━━━━━━━━━━━━╇━━━━━━━━━━━━╇━━━━━━━━━━━━━━━━━━━┩\n",
              "│ input_layer         │ (\u001b[38;5;45mNone\u001b[0m, \u001b[38;5;34m10\u001b[0m)        │          \u001b[38;5;34m0\u001b[0m │ -                 │\n",
              "│ (\u001b[38;5;33mInputLayer\u001b[0m)        │                   │            │                   │\n",
              "├─────────────────────┼───────────────────┼────────────┼───────────────────┤\n",
              "│ dense_1 (\u001b[38;5;33mDense\u001b[0m)     │ (\u001b[38;5;45mNone\u001b[0m, \u001b[38;5;34m64\u001b[0m)        │        \u001b[38;5;34m704\u001b[0m │ input_layer[\u001b[38;5;34m0\u001b[0m][\u001b[38;5;34m0\u001b[0m] │\n",
              "├─────────────────────┼───────────────────┼────────────┼───────────────────┤\n",
              "│ dense_2 (\u001b[38;5;33mDense\u001b[0m)     │ (\u001b[38;5;45mNone\u001b[0m, \u001b[38;5;34m32\u001b[0m)        │      \u001b[38;5;34m2,080\u001b[0m │ dense_1[\u001b[38;5;34m0\u001b[0m][\u001b[38;5;34m0\u001b[0m]     │\n",
              "├─────────────────────┼───────────────────┼────────────┼───────────────────┤\n",
              "│ dept_hidden (\u001b[38;5;33mDense\u001b[0m) │ (\u001b[38;5;45mNone\u001b[0m, \u001b[38;5;34m16\u001b[0m)        │        \u001b[38;5;34m528\u001b[0m │ dense_2[\u001b[38;5;34m0\u001b[0m][\u001b[38;5;34m0\u001b[0m]     │\n",
              "├─────────────────────┼───────────────────┼────────────┼───────────────────┤\n",
              "│ attrition_hidden    │ (\u001b[38;5;45mNone\u001b[0m, \u001b[38;5;34m8\u001b[0m)         │        \u001b[38;5;34m264\u001b[0m │ dense_2[\u001b[38;5;34m0\u001b[0m][\u001b[38;5;34m0\u001b[0m]     │\n",
              "│ (\u001b[38;5;33mDense\u001b[0m)             │                   │            │                   │\n",
              "├─────────────────────┼───────────────────┼────────────┼───────────────────┤\n",
              "│ dept_output (\u001b[38;5;33mDense\u001b[0m) │ (\u001b[38;5;45mNone\u001b[0m, \u001b[38;5;34m3\u001b[0m)         │         \u001b[38;5;34m51\u001b[0m │ dept_hidden[\u001b[38;5;34m0\u001b[0m][\u001b[38;5;34m0\u001b[0m] │\n",
              "├─────────────────────┼───────────────────┼────────────┼───────────────────┤\n",
              "│ attrition_output    │ (\u001b[38;5;45mNone\u001b[0m, \u001b[38;5;34m1\u001b[0m)         │          \u001b[38;5;34m9\u001b[0m │ attrition_hidden… │\n",
              "│ (\u001b[38;5;33mDense\u001b[0m)             │                   │            │                   │\n",
              "└─────────────────────┴───────────────────┴────────────┴───────────────────┘\n"
            ]
          },
          "metadata": {},
          "output_type": "display_data"
        },
        {
          "data": {
            "text/html": [
              "<pre style=\"white-space:pre;overflow-x:auto;line-height:normal;font-family:Menlo,'DejaVu Sans Mono',consolas,'Courier New',monospace\"><span style=\"font-weight: bold\"> Total params: </span><span style=\"color: #00af00; text-decoration-color: #00af00\">3,636</span> (14.20 KB)\n",
              "</pre>\n"
            ],
            "text/plain": [
              "\u001b[1m Total params: \u001b[0m\u001b[38;5;34m3,636\u001b[0m (14.20 KB)\n"
            ]
          },
          "metadata": {},
          "output_type": "display_data"
        },
        {
          "data": {
            "text/html": [
              "<pre style=\"white-space:pre;overflow-x:auto;line-height:normal;font-family:Menlo,'DejaVu Sans Mono',consolas,'Courier New',monospace\"><span style=\"font-weight: bold\"> Trainable params: </span><span style=\"color: #00af00; text-decoration-color: #00af00\">3,636</span> (14.20 KB)\n",
              "</pre>\n"
            ],
            "text/plain": [
              "\u001b[1m Trainable params: \u001b[0m\u001b[38;5;34m3,636\u001b[0m (14.20 KB)\n"
            ]
          },
          "metadata": {},
          "output_type": "display_data"
        },
        {
          "data": {
            "text/html": [
              "<pre style=\"white-space:pre;overflow-x:auto;line-height:normal;font-family:Menlo,'DejaVu Sans Mono',consolas,'Courier New',monospace\"><span style=\"font-weight: bold\"> Non-trainable params: </span><span style=\"color: #00af00; text-decoration-color: #00af00\">0</span> (0.00 B)\n",
              "</pre>\n"
            ],
            "text/plain": [
              "\u001b[1m Non-trainable params: \u001b[0m\u001b[38;5;34m0\u001b[0m (0.00 B)\n"
            ]
          },
          "metadata": {},
          "output_type": "display_data"
        }
      ],
      "source": [
        "from tensorflow.keras.models import Model\n",
        "from tensorflow.keras.optimizers import Adam\n",
        "# Create the model\n",
        "model = Model(inputs=inputs, outputs=[dept_output, attrition_output], name='employee_prediction_model')\n",
        "\n",
        "\n",
        "# Compile the model\n",
        "model.compile(optimizer=Adam(learning_rate=0.001),\n",
        "              loss={'dept_output': 'categorical_crossentropy',\n",
        "                    'attrition_output': 'binary_crossentropy'},\n",
        "              loss_weights={'dept_output': 1.0, 'attrition_output': 1.0},\n",
        "              metrics={'dept_output': 'accuracy',\n",
        "                       'attrition_output': 'accuracy'})\n",
        "\n",
        "# Summarize the model\n",
        "model.summary()"
      ]
    },
    {
      "cell_type": "code",
      "execution_count": 150,
      "metadata": {
        "colab": {
          "base_uri": "https://localhost:8080/"
        },
        "id": "c8oGy0dpGc3U",
        "outputId": "cc667d43-28cf-42d4-d719-c2bc02888d30"
      },
      "outputs": [
        {
          "name": "stdout",
          "output_type": "stream",
          "text": [
            "Epoch 1/100\n"
          ]
        },
        {
          "name": "stderr",
          "output_type": "stream",
          "text": [
            "C:\\Users\\austi\\AppData\\Roaming\\Python\\Python310\\site-packages\\keras\\src\\losses\\losses.py:27: SyntaxWarning: In loss categorical_crossentropy, expected y_pred.shape to be (batch_size, num_classes) with num_classes > 1. Received: y_pred.shape=(None, 1). Consider using 'binary_crossentropy' if you only have 2 classes.\n",
            "  return self.fn(y_true, y_pred, **self._fn_kwargs)\n"
          ]
        },
        {
          "name": "stdout",
          "output_type": "stream",
          "text": [
            "\u001b[1m30/30\u001b[0m \u001b[32m━━━━━━━━━━━━━━━━━━━━\u001b[0m\u001b[37m\u001b[0m \u001b[1m2s\u001b[0m 9ms/step - attrition_output_accuracy: 0.8547 - attrition_output_loss: 0.0000e+00 - dept_output_accuracy: 0.5702 - dept_output_loss: 0.6439 - loss: 0.6439 - val_attrition_output_accuracy: 0.7966 - val_attrition_output_loss: 0.0000e+00 - val_dept_output_accuracy: 0.6314 - val_dept_output_loss: 0.5513 - val_loss: 0.5545\n",
            "Epoch 2/100\n",
            "\u001b[1m 1/30\u001b[0m \u001b[37m━━━━━━━━━━━━━━━━━━━━\u001b[0m \u001b[1m0s\u001b[0m 26ms/step - attrition_output_accuracy: 0.8750 - attrition_output_loss: 0.0000e+00 - dept_output_accuracy: 0.7500 - dept_output_loss: 0.5190 - loss: 0.5190"
          ]
        },
        {
          "name": "stderr",
          "output_type": "stream",
          "text": [
            "C:\\Users\\austi\\AppData\\Roaming\\Python\\Python310\\site-packages\\keras\\src\\losses\\losses.py:27: SyntaxWarning: In loss categorical_crossentropy, expected y_pred.shape to be (batch_size, num_classes) with num_classes > 1. Received: y_pred.shape=(None, 1). Consider using 'binary_crossentropy' if you only have 2 classes.\n",
            "  return self.fn(y_true, y_pred, **self._fn_kwargs)\n"
          ]
        },
        {
          "name": "stdout",
          "output_type": "stream",
          "text": [
            "\u001b[1m30/30\u001b[0m \u001b[32m━━━━━━━━━━━━━━━━━━━━\u001b[0m\u001b[37m\u001b[0m \u001b[1m0s\u001b[0m 2ms/step - attrition_output_accuracy: 0.8327 - attrition_output_loss: 0.0000e+00 - dept_output_accuracy: 0.6521 - dept_output_loss: 0.5214 - loss: 0.5212 - val_attrition_output_accuracy: 0.7966 - val_attrition_output_loss: 0.0000e+00 - val_dept_output_accuracy: 0.6314 - val_dept_output_loss: 0.5296 - val_loss: 0.5382\n",
            "Epoch 3/100\n",
            "\u001b[1m30/30\u001b[0m \u001b[32m━━━━━━━━━━━━━━━━━━━━\u001b[0m\u001b[37m\u001b[0m \u001b[1m0s\u001b[0m 2ms/step - attrition_output_accuracy: 0.8466 - attrition_output_loss: 0.0000e+00 - dept_output_accuracy: 0.6390 - dept_output_loss: 0.5359 - loss: 0.5358 - val_attrition_output_accuracy: 0.7966 - val_attrition_output_loss: 0.0000e+00 - val_dept_output_accuracy: 0.6314 - val_dept_output_loss: 0.5474 - val_loss: 0.5587\n",
            "Epoch 4/100\n",
            "\u001b[1m30/30\u001b[0m \u001b[32m━━━━━━━━━━━━━━━━━━━━\u001b[0m\u001b[37m\u001b[0m \u001b[1m0s\u001b[0m 2ms/step - attrition_output_accuracy: 0.8436 - attrition_output_loss: 0.0000e+00 - dept_output_accuracy: 0.6545 - dept_output_loss: 0.5176 - loss: 0.5176 - val_attrition_output_accuracy: 0.7966 - val_attrition_output_loss: 0.0000e+00 - val_dept_output_accuracy: 0.6314 - val_dept_output_loss: 0.5224 - val_loss: 0.5303\n",
            "Epoch 5/100\n",
            "\u001b[1m30/30\u001b[0m \u001b[32m━━━━━━━━━━━━━━━━━━━━\u001b[0m\u001b[37m\u001b[0m \u001b[1m0s\u001b[0m 2ms/step - attrition_output_accuracy: 0.8457 - attrition_output_loss: 0.0000e+00 - dept_output_accuracy: 0.6514 - dept_output_loss: 0.4977 - loss: 0.4977 - val_attrition_output_accuracy: 0.7966 - val_attrition_output_loss: 0.0000e+00 - val_dept_output_accuracy: 0.6314 - val_dept_output_loss: 0.5445 - val_loss: 0.5538\n",
            "Epoch 6/100\n",
            "\u001b[1m30/30\u001b[0m \u001b[32m━━━━━━━━━━━━━━━━━━━━\u001b[0m\u001b[37m\u001b[0m \u001b[1m0s\u001b[0m 2ms/step - attrition_output_accuracy: 0.8381 - attrition_output_loss: 0.0000e+00 - dept_output_accuracy: 0.6436 - dept_output_loss: 0.5278 - loss: 0.5279 - val_attrition_output_accuracy: 0.7966 - val_attrition_output_loss: 0.0000e+00 - val_dept_output_accuracy: 0.6314 - val_dept_output_loss: 0.5272 - val_loss: 0.5372\n",
            "Epoch 7/100\n",
            "\u001b[1m30/30\u001b[0m \u001b[32m━━━━━━━━━━━━━━━━━━━━\u001b[0m\u001b[37m\u001b[0m \u001b[1m0s\u001b[0m 3ms/step - attrition_output_accuracy: 0.8359 - attrition_output_loss: 0.0000e+00 - dept_output_accuracy: 0.6652 - dept_output_loss: 0.4881 - loss: 0.4883 - val_attrition_output_accuracy: 0.7966 - val_attrition_output_loss: 0.0000e+00 - val_dept_output_accuracy: 0.6314 - val_dept_output_loss: 0.5826 - val_loss: 0.5953\n",
            "Epoch 8/100\n",
            "\u001b[1m30/30\u001b[0m \u001b[32m━━━━━━━━━━━━━━━━━━━━\u001b[0m\u001b[37m\u001b[0m \u001b[1m0s\u001b[0m 2ms/step - attrition_output_accuracy: 0.8326 - attrition_output_loss: 0.0000e+00 - dept_output_accuracy: 0.6193 - dept_output_loss: 0.5318 - loss: 0.5316 - val_attrition_output_accuracy: 0.7966 - val_attrition_output_loss: 0.0000e+00 - val_dept_output_accuracy: 0.6229 - val_dept_output_loss: 0.5245 - val_loss: 0.5354\n",
            "Epoch 9/100\n",
            "\u001b[1m30/30\u001b[0m \u001b[32m━━━━━━━━━━━━━━━━━━━━\u001b[0m\u001b[37m\u001b[0m \u001b[1m0s\u001b[0m 3ms/step - attrition_output_accuracy: 0.8647 - attrition_output_loss: 0.0000e+00 - dept_output_accuracy: 0.6006 - dept_output_loss: 0.5320 - loss: 0.5324 - val_attrition_output_accuracy: 0.7966 - val_attrition_output_loss: 0.0000e+00 - val_dept_output_accuracy: 0.6314 - val_dept_output_loss: 0.6221 - val_loss: 0.6370\n",
            "Epoch 10/100\n",
            "\u001b[1m30/30\u001b[0m \u001b[32m━━━━━━━━━━━━━━━━━━━━\u001b[0m\u001b[37m\u001b[0m \u001b[1m0s\u001b[0m 3ms/step - attrition_output_accuracy: 0.8395 - attrition_output_loss: 0.0000e+00 - dept_output_accuracy: 0.6612 - dept_output_loss: 0.5402 - loss: 0.5403 - val_attrition_output_accuracy: 0.7966 - val_attrition_output_loss: 0.0000e+00 - val_dept_output_accuracy: 0.5763 - val_dept_output_loss: 0.5568 - val_loss: 0.5670\n",
            "Epoch 11/100\n",
            "\u001b[1m30/30\u001b[0m \u001b[32m━━━━━━━━━━━━━━━━━━━━\u001b[0m\u001b[37m\u001b[0m \u001b[1m0s\u001b[0m 2ms/step - attrition_output_accuracy: 0.8414 - attrition_output_loss: 0.0000e+00 - dept_output_accuracy: 0.5668 - dept_output_loss: 0.5752 - loss: 0.5754 - val_attrition_output_accuracy: 0.7966 - val_attrition_output_loss: 0.0000e+00 - val_dept_output_accuracy: 0.6314 - val_dept_output_loss: 0.7885 - val_loss: 0.8065\n",
            "Epoch 12/100\n",
            "\u001b[1m30/30\u001b[0m \u001b[32m━━━━━━━━━━━━━━━━━━━━\u001b[0m\u001b[37m\u001b[0m \u001b[1m0s\u001b[0m 2ms/step - attrition_output_accuracy: 0.8399 - attrition_output_loss: 0.0000e+00 - dept_output_accuracy: 0.5830 - dept_output_loss: 0.6776 - loss: 0.6780 - val_attrition_output_accuracy: 0.7966 - val_attrition_output_loss: 0.0000e+00 - val_dept_output_accuracy: 0.5678 - val_dept_output_loss: 0.6481 - val_loss: 0.6679\n",
            "Epoch 13/100\n",
            "\u001b[1m30/30\u001b[0m \u001b[32m━━━━━━━━━━━━━━━━━━━━\u001b[0m\u001b[37m\u001b[0m \u001b[1m0s\u001b[0m 2ms/step - attrition_output_accuracy: 0.8504 - attrition_output_loss: 0.0000e+00 - dept_output_accuracy: 0.5671 - dept_output_loss: 0.6562 - loss: 0.6562 - val_attrition_output_accuracy: 0.7966 - val_attrition_output_loss: 0.0000e+00 - val_dept_output_accuracy: 0.4873 - val_dept_output_loss: 0.6676 - val_loss: 0.6708\n",
            "Epoch 14/100\n",
            "\u001b[1m30/30\u001b[0m \u001b[32m━━━━━━━━━━━━━━━━━━━━\u001b[0m\u001b[37m\u001b[0m \u001b[1m0s\u001b[0m 2ms/step - attrition_output_accuracy: 0.8390 - attrition_output_loss: 0.0000e+00 - dept_output_accuracy: 0.5556 - dept_output_loss: 0.6431 - loss: 0.6431 - val_attrition_output_accuracy: 0.7966 - val_attrition_output_loss: 0.0000e+00 - val_dept_output_accuracy: 0.5636 - val_dept_output_loss: 0.6953 - val_loss: 0.7168\n",
            "Epoch 15/100\n",
            "\u001b[1m30/30\u001b[0m \u001b[32m━━━━━━━━━━━━━━━━━━━━\u001b[0m\u001b[37m\u001b[0m \u001b[1m0s\u001b[0m 2ms/step - attrition_output_accuracy: 0.8193 - attrition_output_loss: 0.0000e+00 - dept_output_accuracy: 0.5443 - dept_output_loss: 0.7205 - loss: 0.7209 - val_attrition_output_accuracy: 0.7966 - val_attrition_output_loss: 0.0000e+00 - val_dept_output_accuracy: 0.6059 - val_dept_output_loss: 0.6878 - val_loss: 0.7039\n",
            "Epoch 16/100\n",
            "\u001b[1m30/30\u001b[0m \u001b[32m━━━━━━━━━━━━━━━━━━━━\u001b[0m\u001b[37m\u001b[0m \u001b[1m0s\u001b[0m 3ms/step - attrition_output_accuracy: 0.8499 - attrition_output_loss: 0.0000e+00 - dept_output_accuracy: 0.5991 - dept_output_loss: 0.6684 - loss: 0.6682 - val_attrition_output_accuracy: 0.7966 - val_attrition_output_loss: 0.0000e+00 - val_dept_output_accuracy: 0.4407 - val_dept_output_loss: 0.6727 - val_loss: 0.6821\n",
            "Epoch 17/100\n",
            "\u001b[1m30/30\u001b[0m \u001b[32m━━━━━━━━━━━━━━━━━━━━\u001b[0m\u001b[37m\u001b[0m \u001b[1m0s\u001b[0m 2ms/step - attrition_output_accuracy: 0.8412 - attrition_output_loss: 0.0000e+00 - dept_output_accuracy: 0.5476 - dept_output_loss: 0.6636 - loss: 0.6636 - val_attrition_output_accuracy: 0.7966 - val_attrition_output_loss: 0.0000e+00 - val_dept_output_accuracy: 0.5297 - val_dept_output_loss: 0.9500 - val_loss: 0.9574\n",
            "Epoch 18/100\n",
            "\u001b[1m30/30\u001b[0m \u001b[32m━━━━━━━━━━━━━━━━━━━━\u001b[0m\u001b[37m\u001b[0m \u001b[1m0s\u001b[0m 2ms/step - attrition_output_accuracy: 0.8329 - attrition_output_loss: 0.0000e+00 - dept_output_accuracy: 0.5377 - dept_output_loss: 0.8209 - loss: 0.8204 - val_attrition_output_accuracy: 0.7966 - val_attrition_output_loss: 0.0000e+00 - val_dept_output_accuracy: 0.4068 - val_dept_output_loss: 0.6852 - val_loss: 0.6902\n",
            "Epoch 19/100\n",
            "\u001b[1m30/30\u001b[0m \u001b[32m━━━━━━━━━━━━━━━━━━━━\u001b[0m\u001b[37m\u001b[0m \u001b[1m0s\u001b[0m 2ms/step - attrition_output_accuracy: 0.8133 - attrition_output_loss: 0.0000e+00 - dept_output_accuracy: 0.5377 - dept_output_loss: 0.7982 - loss: 0.7978 - val_attrition_output_accuracy: 0.7966 - val_attrition_output_loss: 0.0000e+00 - val_dept_output_accuracy: 0.5551 - val_dept_output_loss: 0.7329 - val_loss: 0.7550\n",
            "Epoch 20/100\n",
            "\u001b[1m30/30\u001b[0m \u001b[32m━━━━━━━━━━━━━━━━━━━━\u001b[0m\u001b[37m\u001b[0m \u001b[1m0s\u001b[0m 3ms/step - attrition_output_accuracy: 0.8459 - attrition_output_loss: 0.0000e+00 - dept_output_accuracy: 0.5905 - dept_output_loss: 0.7922 - loss: 0.7901 - val_attrition_output_accuracy: 0.7966 - val_attrition_output_loss: 0.0000e+00 - val_dept_output_accuracy: 0.5042 - val_dept_output_loss: 0.7633 - val_loss: 0.7833\n",
            "Epoch 21/100\n",
            "\u001b[1m30/30\u001b[0m \u001b[32m━━━━━━━━━━━━━━━━━━━━\u001b[0m\u001b[37m\u001b[0m \u001b[1m0s\u001b[0m 3ms/step - attrition_output_accuracy: 0.8176 - attrition_output_loss: 0.0000e+00 - dept_output_accuracy: 0.4994 - dept_output_loss: 1.0833 - loss: 1.0836 - val_attrition_output_accuracy: 0.7966 - val_attrition_output_loss: 0.0000e+00 - val_dept_output_accuracy: 0.5466 - val_dept_output_loss: 0.7979 - val_loss: 0.8053\n",
            "Epoch 22/100\n",
            "\u001b[1m30/30\u001b[0m \u001b[32m━━━━━━━━━━━━━━━━━━━━\u001b[0m\u001b[37m\u001b[0m \u001b[1m0s\u001b[0m 3ms/step - attrition_output_accuracy: 0.8398 - attrition_output_loss: 0.0000e+00 - dept_output_accuracy: 0.5263 - dept_output_loss: 0.9672 - loss: 0.9678 - val_attrition_output_accuracy: 0.7966 - val_attrition_output_loss: 0.0000e+00 - val_dept_output_accuracy: 0.4025 - val_dept_output_loss: 0.9102 - val_loss: 0.9295\n",
            "Epoch 23/100\n",
            "\u001b[1m30/30\u001b[0m \u001b[32m━━━━━━━━━━━━━━━━━━━━\u001b[0m\u001b[37m\u001b[0m \u001b[1m0s\u001b[0m 4ms/step - attrition_output_accuracy: 0.8431 - attrition_output_loss: 0.0000e+00 - dept_output_accuracy: 0.5477 - dept_output_loss: 0.8206 - loss: 0.8205 - val_attrition_output_accuracy: 0.7966 - val_attrition_output_loss: 0.0000e+00 - val_dept_output_accuracy: 0.5339 - val_dept_output_loss: 0.8135 - val_loss: 0.8426\n",
            "Epoch 24/100\n",
            "\u001b[1m30/30\u001b[0m \u001b[32m━━━━━━━━━━━━━━━━━━━━\u001b[0m\u001b[37m\u001b[0m \u001b[1m0s\u001b[0m 2ms/step - attrition_output_accuracy: 0.8429 - attrition_output_loss: 0.0000e+00 - dept_output_accuracy: 0.5564 - dept_output_loss: 0.9242 - loss: 0.9244 - val_attrition_output_accuracy: 0.7966 - val_attrition_output_loss: 0.0000e+00 - val_dept_output_accuracy: 0.4280 - val_dept_output_loss: 0.8000 - val_loss: 0.8108\n",
            "Epoch 25/100\n",
            "\u001b[1m30/30\u001b[0m \u001b[32m━━━━━━━━━━━━━━━━━━━━\u001b[0m\u001b[37m\u001b[0m \u001b[1m0s\u001b[0m 2ms/step - attrition_output_accuracy: 0.8349 - attrition_output_loss: 0.0000e+00 - dept_output_accuracy: 0.5626 - dept_output_loss: 0.9943 - loss: 0.9947 - val_attrition_output_accuracy: 0.7966 - val_attrition_output_loss: 0.0000e+00 - val_dept_output_accuracy: 0.6017 - val_dept_output_loss: 1.2297 - val_loss: 1.2496\n",
            "Epoch 26/100\n",
            "\u001b[1m30/30\u001b[0m \u001b[32m━━━━━━━━━━━━━━━━━━━━\u001b[0m\u001b[37m\u001b[0m \u001b[1m0s\u001b[0m 2ms/step - attrition_output_accuracy: 0.8432 - attrition_output_loss: 0.0000e+00 - dept_output_accuracy: 0.6023 - dept_output_loss: 1.2329 - loss: 1.2328 - val_attrition_output_accuracy: 0.7966 - val_attrition_output_loss: 0.0000e+00 - val_dept_output_accuracy: 0.3263 - val_dept_output_loss: 1.8869 - val_loss: 1.8847\n",
            "Epoch 27/100\n",
            "\u001b[1m30/30\u001b[0m \u001b[32m━━━━━━━━━━━━━━━━━━━━\u001b[0m\u001b[37m\u001b[0m \u001b[1m0s\u001b[0m 2ms/step - attrition_output_accuracy: 0.8606 - attrition_output_loss: 0.0000e+00 - dept_output_accuracy: 0.4917 - dept_output_loss: 1.7161 - loss: 1.7173 - val_attrition_output_accuracy: 0.7966 - val_attrition_output_loss: 0.0000e+00 - val_dept_output_accuracy: 0.2119 - val_dept_output_loss: 1.9005 - val_loss: 1.8966\n",
            "Epoch 28/100\n",
            "\u001b[1m30/30\u001b[0m \u001b[32m━━━━━━━━━━━━━━━━━━━━\u001b[0m\u001b[37m\u001b[0m \u001b[1m0s\u001b[0m 2ms/step - attrition_output_accuracy: 0.8263 - attrition_output_loss: 0.0000e+00 - dept_output_accuracy: 0.5303 - dept_output_loss: 1.3017 - loss: 1.3015 - val_attrition_output_accuracy: 0.7966 - val_attrition_output_loss: 0.0000e+00 - val_dept_output_accuracy: 0.3220 - val_dept_output_loss: 2.0595 - val_loss: 2.0640\n",
            "Epoch 29/100\n",
            "\u001b[1m30/30\u001b[0m \u001b[32m━━━━━━━━━━━━━━━━━━━━\u001b[0m\u001b[37m\u001b[0m \u001b[1m0s\u001b[0m 3ms/step - attrition_output_accuracy: 0.8388 - attrition_output_loss: 0.0000e+00 - dept_output_accuracy: 0.5385 - dept_output_loss: 2.0372 - loss: 2.0379 - val_attrition_output_accuracy: 0.7966 - val_attrition_output_loss: 0.0000e+00 - val_dept_output_accuracy: 0.5424 - val_dept_output_loss: 0.8412 - val_loss: 0.8560\n",
            "Epoch 30/100\n",
            "\u001b[1m30/30\u001b[0m \u001b[32m━━━━━━━━━━━━━━━━━━━━\u001b[0m\u001b[37m\u001b[0m \u001b[1m0s\u001b[0m 3ms/step - attrition_output_accuracy: 0.8540 - attrition_output_loss: 0.0000e+00 - dept_output_accuracy: 0.5183 - dept_output_loss: 0.9632 - loss: 0.9630 - val_attrition_output_accuracy: 0.7966 - val_attrition_output_loss: 0.0000e+00 - val_dept_output_accuracy: 0.4322 - val_dept_output_loss: 1.2133 - val_loss: 1.2333\n",
            "Epoch 31/100\n",
            "\u001b[1m30/30\u001b[0m \u001b[32m━━━━━━━━━━━━━━━━━━━━\u001b[0m\u001b[37m\u001b[0m \u001b[1m0s\u001b[0m 3ms/step - attrition_output_accuracy: 0.8429 - attrition_output_loss: 0.0000e+00 - dept_output_accuracy: 0.5485 - dept_output_loss: 1.3549 - loss: 1.3548 - val_attrition_output_accuracy: 0.7966 - val_attrition_output_loss: 0.0000e+00 - val_dept_output_accuracy: 0.6144 - val_dept_output_loss: 1.5485 - val_loss: 1.5723\n",
            "Epoch 32/100\n",
            "\u001b[1m30/30\u001b[0m \u001b[32m━━━━━━━━━━━━━━━━━━━━\u001b[0m\u001b[37m\u001b[0m \u001b[1m0s\u001b[0m 3ms/step - attrition_output_accuracy: 0.8465 - attrition_output_loss: 0.0000e+00 - dept_output_accuracy: 0.5545 - dept_output_loss: 1.3353 - loss: 1.3353 - val_attrition_output_accuracy: 0.7966 - val_attrition_output_loss: 0.0000e+00 - val_dept_output_accuracy: 0.2415 - val_dept_output_loss: 1.4275 - val_loss: 1.4318\n",
            "Epoch 33/100\n",
            "\u001b[1m30/30\u001b[0m \u001b[32m━━━━━━━━━━━━━━━━━━━━\u001b[0m\u001b[37m\u001b[0m \u001b[1m0s\u001b[0m 3ms/step - attrition_output_accuracy: 0.8241 - attrition_output_loss: 0.0000e+00 - dept_output_accuracy: 0.5552 - dept_output_loss: 1.1005 - loss: 1.1005 - val_attrition_output_accuracy: 0.7966 - val_attrition_output_loss: 0.0000e+00 - val_dept_output_accuracy: 0.5466 - val_dept_output_loss: 0.9793 - val_loss: 0.9995\n",
            "Epoch 34/100\n",
            "\u001b[1m30/30\u001b[0m \u001b[32m━━━━━━━━━━━━━━━━━━━━\u001b[0m\u001b[37m\u001b[0m \u001b[1m0s\u001b[0m 2ms/step - attrition_output_accuracy: 0.8563 - attrition_output_loss: 0.0000e+00 - dept_output_accuracy: 0.5698 - dept_output_loss: 1.1900 - loss: 1.1905 - val_attrition_output_accuracy: 0.7966 - val_attrition_output_loss: 0.0000e+00 - val_dept_output_accuracy: 0.5847 - val_dept_output_loss: 1.1526 - val_loss: 1.1725\n",
            "Epoch 35/100\n",
            "\u001b[1m30/30\u001b[0m \u001b[32m━━━━━━━━━━━━━━━━━━━━\u001b[0m\u001b[37m\u001b[0m \u001b[1m0s\u001b[0m 2ms/step - attrition_output_accuracy: 0.8493 - attrition_output_loss: 0.0000e+00 - dept_output_accuracy: 0.5763 - dept_output_loss: 1.3209 - loss: 1.3202 - val_attrition_output_accuracy: 0.7966 - val_attrition_output_loss: 0.0000e+00 - val_dept_output_accuracy: 0.5890 - val_dept_output_loss: 1.5240 - val_loss: 1.5511\n",
            "Epoch 36/100\n",
            "\u001b[1m30/30\u001b[0m \u001b[32m━━━━━━━━━━━━━━━━━━━━\u001b[0m\u001b[37m\u001b[0m \u001b[1m0s\u001b[0m 2ms/step - attrition_output_accuracy: 0.8417 - attrition_output_loss: 0.0000e+00 - dept_output_accuracy: 0.5415 - dept_output_loss: 2.0436 - loss: 2.0375 - val_attrition_output_accuracy: 0.7966 - val_attrition_output_loss: 0.0000e+00 - val_dept_output_accuracy: 0.6314 - val_dept_output_loss: 3.3181 - val_loss: 3.3651\n",
            "Epoch 37/100\n",
            "\u001b[1m30/30\u001b[0m \u001b[32m━━━━━━━━━━━━━━━━━━━━\u001b[0m\u001b[37m\u001b[0m \u001b[1m0s\u001b[0m 2ms/step - attrition_output_accuracy: 0.8378 - attrition_output_loss: 0.0000e+00 - dept_output_accuracy: 0.5168 - dept_output_loss: 2.6765 - loss: 2.6778 - val_attrition_output_accuracy: 0.7966 - val_attrition_output_loss: 0.0000e+00 - val_dept_output_accuracy: 0.5042 - val_dept_output_loss: 0.9569 - val_loss: 0.9694\n",
            "Epoch 38/100\n",
            "\u001b[1m30/30\u001b[0m \u001b[32m━━━━━━━━━━━━━━━━━━━━\u001b[0m\u001b[37m\u001b[0m \u001b[1m0s\u001b[0m 2ms/step - attrition_output_accuracy: 0.8469 - attrition_output_loss: 0.0000e+00 - dept_output_accuracy: 0.5476 - dept_output_loss: 1.8160 - loss: 1.8164 - val_attrition_output_accuracy: 0.7966 - val_attrition_output_loss: 0.0000e+00 - val_dept_output_accuracy: 0.4703 - val_dept_output_loss: 1.3179 - val_loss: 1.3662\n",
            "Epoch 39/100\n",
            "\u001b[1m30/30\u001b[0m \u001b[32m━━━━━━━━━━━━━━━━━━━━\u001b[0m\u001b[37m\u001b[0m \u001b[1m0s\u001b[0m 3ms/step - attrition_output_accuracy: 0.8336 - attrition_output_loss: 0.0000e+00 - dept_output_accuracy: 0.5084 - dept_output_loss: 1.7108 - loss: 1.7124 - val_attrition_output_accuracy: 0.7966 - val_attrition_output_loss: 0.0000e+00 - val_dept_output_accuracy: 0.6314 - val_dept_output_loss: 2.8440 - val_loss: 2.8847\n",
            "Epoch 40/100\n",
            "\u001b[1m30/30\u001b[0m \u001b[32m━━━━━━━━━━━━━━━━━━━━\u001b[0m\u001b[37m\u001b[0m \u001b[1m0s\u001b[0m 2ms/step - attrition_output_accuracy: 0.8394 - attrition_output_loss: 0.0000e+00 - dept_output_accuracy: 0.5242 - dept_output_loss: 2.7945 - loss: 2.7936 - val_attrition_output_accuracy: 0.7966 - val_attrition_output_loss: 0.0000e+00 - val_dept_output_accuracy: 0.3178 - val_dept_output_loss: 2.8830 - val_loss: 2.8935\n",
            "Epoch 41/100\n",
            "\u001b[1m30/30\u001b[0m \u001b[32m━━━━━━━━━━━━━━━━━━━━\u001b[0m\u001b[37m\u001b[0m \u001b[1m0s\u001b[0m 2ms/step - attrition_output_accuracy: 0.8327 - attrition_output_loss: 0.0000e+00 - dept_output_accuracy: 0.5219 - dept_output_loss: 2.0098 - loss: 2.0104 - val_attrition_output_accuracy: 0.7966 - val_attrition_output_loss: 0.0000e+00 - val_dept_output_accuracy: 0.6314 - val_dept_output_loss: 1.9826 - val_loss: 2.0250\n",
            "Epoch 42/100\n",
            "\u001b[1m30/30\u001b[0m \u001b[32m━━━━━━━━━━━━━━━━━━━━\u001b[0m\u001b[37m\u001b[0m \u001b[1m0s\u001b[0m 2ms/step - attrition_output_accuracy: 0.8371 - attrition_output_loss: 0.0000e+00 - dept_output_accuracy: 0.5833 - dept_output_loss: 1.9386 - loss: 1.9355 - val_attrition_output_accuracy: 0.7966 - val_attrition_output_loss: 0.0000e+00 - val_dept_output_accuracy: 0.6314 - val_dept_output_loss: 2.7715 - val_loss: 2.8095\n",
            "Epoch 43/100\n",
            "\u001b[1m30/30\u001b[0m \u001b[32m━━━━━━━━━━━━━━━━━━━━\u001b[0m\u001b[37m\u001b[0m \u001b[1m0s\u001b[0m 2ms/step - attrition_output_accuracy: 0.8392 - attrition_output_loss: 0.0000e+00 - dept_output_accuracy: 0.5409 - dept_output_loss: 2.2101 - loss: 2.2108 - val_attrition_output_accuracy: 0.7966 - val_attrition_output_loss: 0.0000e+00 - val_dept_output_accuracy: 0.6314 - val_dept_output_loss: 5.1655 - val_loss: 5.2577\n",
            "Epoch 44/100\n",
            "\u001b[1m30/30\u001b[0m \u001b[32m━━━━━━━━━━━━━━━━━━━━\u001b[0m\u001b[37m\u001b[0m \u001b[1m0s\u001b[0m 2ms/step - attrition_output_accuracy: 0.8576 - attrition_output_loss: 0.0000e+00 - dept_output_accuracy: 0.5164 - dept_output_loss: 4.5046 - loss: 4.5055 - val_attrition_output_accuracy: 0.7966 - val_attrition_output_loss: 0.0000e+00 - val_dept_output_accuracy: 0.5805 - val_dept_output_loss: 2.1778 - val_loss: 2.2738\n",
            "Epoch 45/100\n",
            "\u001b[1m30/30\u001b[0m \u001b[32m━━━━━━━━━━━━━━━━━━━━\u001b[0m\u001b[37m\u001b[0m \u001b[1m0s\u001b[0m 2ms/step - attrition_output_accuracy: 0.8575 - attrition_output_loss: 0.0000e+00 - dept_output_accuracy: 0.5618 - dept_output_loss: 2.1787 - loss: 2.1756 - val_attrition_output_accuracy: 0.7966 - val_attrition_output_loss: 0.0000e+00 - val_dept_output_accuracy: 0.5424 - val_dept_output_loss: 2.1204 - val_loss: 2.2315\n",
            "Epoch 46/100\n",
            "\u001b[1m30/30\u001b[0m \u001b[32m━━━━━━━━━━━━━━━━━━━━\u001b[0m\u001b[37m\u001b[0m \u001b[1m0s\u001b[0m 3ms/step - attrition_output_accuracy: 0.8291 - attrition_output_loss: 0.0000e+00 - dept_output_accuracy: 0.5758 - dept_output_loss: 3.5121 - loss: 3.5142 - val_attrition_output_accuracy: 0.7966 - val_attrition_output_loss: 0.0000e+00 - val_dept_output_accuracy: 0.5593 - val_dept_output_loss: 1.5506 - val_loss: 1.5713\n",
            "Epoch 47/100\n",
            "\u001b[1m30/30\u001b[0m \u001b[32m━━━━━━━━━━━━━━━━━━━━\u001b[0m\u001b[37m\u001b[0m \u001b[1m0s\u001b[0m 3ms/step - attrition_output_accuracy: 0.8260 - attrition_output_loss: 0.0000e+00 - dept_output_accuracy: 0.5809 - dept_output_loss: 1.8763 - loss: 1.8747 - val_attrition_output_accuracy: 0.7966 - val_attrition_output_loss: 0.0000e+00 - val_dept_output_accuracy: 0.5720 - val_dept_output_loss: 1.7818 - val_loss: 1.8312\n",
            "Epoch 48/100\n",
            "\u001b[1m30/30\u001b[0m \u001b[32m━━━━━━━━━━━━━━━━━━━━\u001b[0m\u001b[37m\u001b[0m \u001b[1m0s\u001b[0m 2ms/step - attrition_output_accuracy: 0.8397 - attrition_output_loss: 0.0000e+00 - dept_output_accuracy: 0.6169 - dept_output_loss: 2.5510 - loss: 2.5521 - val_attrition_output_accuracy: 0.7966 - val_attrition_output_loss: 0.0000e+00 - val_dept_output_accuracy: 0.3390 - val_dept_output_loss: 1.9450 - val_loss: 1.9851\n",
            "Epoch 49/100\n",
            "\u001b[1m30/30\u001b[0m \u001b[32m━━━━━━━━━━━━━━━━━━━━\u001b[0m\u001b[37m\u001b[0m \u001b[1m0s\u001b[0m 2ms/step - attrition_output_accuracy: 0.8309 - attrition_output_loss: 0.0000e+00 - dept_output_accuracy: 0.5508 - dept_output_loss: 3.2975 - loss: 3.2971 - val_attrition_output_accuracy: 0.7966 - val_attrition_output_loss: 0.0000e+00 - val_dept_output_accuracy: 0.3347 - val_dept_output_loss: 1.8702 - val_loss: 1.8909\n",
            "Epoch 50/100\n",
            "\u001b[1m30/30\u001b[0m \u001b[32m━━━━━━━━━━━━━━━━━━━━\u001b[0m\u001b[37m\u001b[0m \u001b[1m0s\u001b[0m 2ms/step - attrition_output_accuracy: 0.8445 - attrition_output_loss: 0.0000e+00 - dept_output_accuracy: 0.5584 - dept_output_loss: 2.2416 - loss: 2.2426 - val_attrition_output_accuracy: 0.7966 - val_attrition_output_loss: 0.0000e+00 - val_dept_output_accuracy: 0.5763 - val_dept_output_loss: 1.4028 - val_loss: 1.4401\n",
            "Epoch 51/100\n",
            "\u001b[1m30/30\u001b[0m \u001b[32m━━━━━━━━━━━━━━━━━━━━\u001b[0m\u001b[37m\u001b[0m \u001b[1m0s\u001b[0m 2ms/step - attrition_output_accuracy: 0.8445 - attrition_output_loss: 0.0000e+00 - dept_output_accuracy: 0.5815 - dept_output_loss: 2.1851 - loss: 2.1871 - val_attrition_output_accuracy: 0.7966 - val_attrition_output_loss: 0.0000e+00 - val_dept_output_accuracy: 0.5890 - val_dept_output_loss: 2.9672 - val_loss: 2.9951\n",
            "Epoch 52/100\n",
            "\u001b[1m30/30\u001b[0m \u001b[32m━━━━━━━━━━━━━━━━━━━━\u001b[0m\u001b[37m\u001b[0m \u001b[1m0s\u001b[0m 2ms/step - attrition_output_accuracy: 0.8473 - attrition_output_loss: 0.0000e+00 - dept_output_accuracy: 0.6107 - dept_output_loss: 3.1970 - loss: 3.1971 - val_attrition_output_accuracy: 0.7966 - val_attrition_output_loss: 0.0000e+00 - val_dept_output_accuracy: 0.3263 - val_dept_output_loss: 5.5075 - val_loss: 5.5329\n",
            "Epoch 53/100\n",
            "\u001b[1m30/30\u001b[0m \u001b[32m━━━━━━━━━━━━━━━━━━━━\u001b[0m\u001b[37m\u001b[0m \u001b[1m0s\u001b[0m 2ms/step - attrition_output_accuracy: 0.8281 - attrition_output_loss: 0.0000e+00 - dept_output_accuracy: 0.5465 - dept_output_loss: 3.7351 - loss: 3.7385 - val_attrition_output_accuracy: 0.7966 - val_attrition_output_loss: 0.0000e+00 - val_dept_output_accuracy: 0.6314 - val_dept_output_loss: 2.6346 - val_loss: 2.7163\n",
            "Epoch 54/100\n",
            "\u001b[1m30/30\u001b[0m \u001b[32m━━━━━━━━━━━━━━━━━━━━\u001b[0m\u001b[37m\u001b[0m \u001b[1m0s\u001b[0m 3ms/step - attrition_output_accuracy: 0.8536 - attrition_output_loss: 0.0000e+00 - dept_output_accuracy: 0.5808 - dept_output_loss: 3.8505 - loss: 3.8512 - val_attrition_output_accuracy: 0.7966 - val_attrition_output_loss: 0.0000e+00 - val_dept_output_accuracy: 0.2924 - val_dept_output_loss: 3.9971 - val_loss: 3.9718\n",
            "Epoch 55/100\n",
            "\u001b[1m30/30\u001b[0m \u001b[32m━━━━━━━━━━━━━━━━━━━━\u001b[0m\u001b[37m\u001b[0m \u001b[1m0s\u001b[0m 2ms/step - attrition_output_accuracy: 0.8428 - attrition_output_loss: 0.0000e+00 - dept_output_accuracy: 0.5439 - dept_output_loss: 2.8731 - loss: 2.8750 - val_attrition_output_accuracy: 0.7966 - val_attrition_output_loss: 0.0000e+00 - val_dept_output_accuracy: 0.6271 - val_dept_output_loss: 2.5510 - val_loss: 2.5890\n",
            "Epoch 56/100\n",
            "\u001b[1m30/30\u001b[0m \u001b[32m━━━━━━━━━━━━━━━━━━━━\u001b[0m\u001b[37m\u001b[0m \u001b[1m0s\u001b[0m 3ms/step - attrition_output_accuracy: 0.8612 - attrition_output_loss: 0.0000e+00 - dept_output_accuracy: 0.5509 - dept_output_loss: 3.2039 - loss: 3.2019 - val_attrition_output_accuracy: 0.7966 - val_attrition_output_loss: 0.0000e+00 - val_dept_output_accuracy: 0.4703 - val_dept_output_loss: 3.0044 - val_loss: 3.1844\n",
            "Epoch 57/100\n",
            "\u001b[1m30/30\u001b[0m \u001b[32m━━━━━━━━━━━━━━━━━━━━\u001b[0m\u001b[37m\u001b[0m \u001b[1m0s\u001b[0m 2ms/step - attrition_output_accuracy: 0.8431 - attrition_output_loss: 0.0000e+00 - dept_output_accuracy: 0.6080 - dept_output_loss: 2.9542 - loss: 2.9540 - val_attrition_output_accuracy: 0.7966 - val_attrition_output_loss: 0.0000e+00 - val_dept_output_accuracy: 0.3263 - val_dept_output_loss: 5.4024 - val_loss: 5.3739\n",
            "Epoch 58/100\n",
            "\u001b[1m30/30\u001b[0m \u001b[32m━━━━━━━━━━━━━━━━━━━━\u001b[0m\u001b[37m\u001b[0m \u001b[1m0s\u001b[0m 3ms/step - attrition_output_accuracy: 0.8247 - attrition_output_loss: 0.0000e+00 - dept_output_accuracy: 0.5154 - dept_output_loss: 3.8373 - loss: 3.8398 - val_attrition_output_accuracy: 0.7966 - val_attrition_output_loss: 0.0000e+00 - val_dept_output_accuracy: 0.6271 - val_dept_output_loss: 2.4237 - val_loss: 2.4552\n",
            "Epoch 59/100\n",
            "\u001b[1m30/30\u001b[0m \u001b[32m━━━━━━━━━━━━━━━━━━━━\u001b[0m\u001b[37m\u001b[0m \u001b[1m0s\u001b[0m 2ms/step - attrition_output_accuracy: 0.8376 - attrition_output_loss: 0.0000e+00 - dept_output_accuracy: 0.5793 - dept_output_loss: 3.5253 - loss: 3.5268 - val_attrition_output_accuracy: 0.7966 - val_attrition_output_loss: 0.0000e+00 - val_dept_output_accuracy: 0.6271 - val_dept_output_loss: 1.5381 - val_loss: 1.5895\n",
            "Epoch 60/100\n",
            "\u001b[1m30/30\u001b[0m \u001b[32m━━━━━━━━━━━━━━━━━━━━\u001b[0m\u001b[37m\u001b[0m \u001b[1m0s\u001b[0m 2ms/step - attrition_output_accuracy: 0.8434 - attrition_output_loss: 0.0000e+00 - dept_output_accuracy: 0.5388 - dept_output_loss: 3.6104 - loss: 3.6133 - val_attrition_output_accuracy: 0.7966 - val_attrition_output_loss: 0.0000e+00 - val_dept_output_accuracy: 0.3898 - val_dept_output_loss: 3.2956 - val_loss: 3.3248\n",
            "Epoch 61/100\n",
            "\u001b[1m30/30\u001b[0m \u001b[32m━━━━━━━━━━━━━━━━━━━━\u001b[0m\u001b[37m\u001b[0m \u001b[1m0s\u001b[0m 3ms/step - attrition_output_accuracy: 0.8517 - attrition_output_loss: 0.0000e+00 - dept_output_accuracy: 0.5362 - dept_output_loss: 4.2838 - loss: 4.2876 - val_attrition_output_accuracy: 0.7966 - val_attrition_output_loss: 0.0000e+00 - val_dept_output_accuracy: 0.3263 - val_dept_output_loss: 3.3823 - val_loss: 3.4742\n",
            "Epoch 62/100\n",
            "\u001b[1m30/30\u001b[0m \u001b[32m━━━━━━━━━━━━━━━━━━━━\u001b[0m\u001b[37m\u001b[0m \u001b[1m0s\u001b[0m 2ms/step - attrition_output_accuracy: 0.8375 - attrition_output_loss: 0.0000e+00 - dept_output_accuracy: 0.5602 - dept_output_loss: 3.0078 - loss: 3.0005 - val_attrition_output_accuracy: 0.7966 - val_attrition_output_loss: 0.0000e+00 - val_dept_output_accuracy: 0.6314 - val_dept_output_loss: 2.7679 - val_loss: 2.8748\n",
            "Epoch 63/100\n",
            "\u001b[1m30/30\u001b[0m \u001b[32m━━━━━━━━━━━━━━━━━━━━\u001b[0m\u001b[37m\u001b[0m \u001b[1m0s\u001b[0m 2ms/step - attrition_output_accuracy: 0.8334 - attrition_output_loss: 0.0000e+00 - dept_output_accuracy: 0.5207 - dept_output_loss: 4.6162 - loss: 4.6122 - val_attrition_output_accuracy: 0.7966 - val_attrition_output_loss: 0.0000e+00 - val_dept_output_accuracy: 0.6314 - val_dept_output_loss: 3.7830 - val_loss: 3.8937\n",
            "Epoch 64/100\n",
            "\u001b[1m30/30\u001b[0m \u001b[32m━━━━━━━━━━━━━━━━━━━━\u001b[0m\u001b[37m\u001b[0m \u001b[1m0s\u001b[0m 2ms/step - attrition_output_accuracy: 0.8329 - attrition_output_loss: 0.0000e+00 - dept_output_accuracy: 0.5595 - dept_output_loss: 4.2440 - loss: 4.2444 - val_attrition_output_accuracy: 0.7966 - val_attrition_output_loss: 0.0000e+00 - val_dept_output_accuracy: 0.6356 - val_dept_output_loss: 2.4224 - val_loss: 2.5310\n",
            "Epoch 65/100\n",
            "\u001b[1m30/30\u001b[0m \u001b[32m━━━━━━━━━━━━━━━━━━━━\u001b[0m\u001b[37m\u001b[0m \u001b[1m0s\u001b[0m 2ms/step - attrition_output_accuracy: 0.8440 - attrition_output_loss: 0.0000e+00 - dept_output_accuracy: 0.5109 - dept_output_loss: 5.5891 - loss: 5.5852 - val_attrition_output_accuracy: 0.7966 - val_attrition_output_loss: 0.0000e+00 - val_dept_output_accuracy: 0.6314 - val_dept_output_loss: 7.7178 - val_loss: 7.8694\n",
            "Epoch 66/100\n",
            "\u001b[1m30/30\u001b[0m \u001b[32m━━━━━━━━━━━━━━━━━━━━\u001b[0m\u001b[37m\u001b[0m \u001b[1m0s\u001b[0m 2ms/step - attrition_output_accuracy: 0.8604 - attrition_output_loss: 0.0000e+00 - dept_output_accuracy: 0.5478 - dept_output_loss: 6.2206 - loss: 6.2219 - val_attrition_output_accuracy: 0.7966 - val_attrition_output_loss: 0.0000e+00 - val_dept_output_accuracy: 0.4873 - val_dept_output_loss: 4.1868 - val_loss: 4.2354\n",
            "Epoch 67/100\n",
            "\u001b[1m30/30\u001b[0m \u001b[32m━━━━━━━━━━━━━━━━━━━━\u001b[0m\u001b[37m\u001b[0m \u001b[1m0s\u001b[0m 2ms/step - attrition_output_accuracy: 0.8099 - attrition_output_loss: 0.0000e+00 - dept_output_accuracy: 0.5486 - dept_output_loss: 4.8175 - loss: 4.8216 - val_attrition_output_accuracy: 0.7966 - val_attrition_output_loss: 0.0000e+00 - val_dept_output_accuracy: 0.6314 - val_dept_output_loss: 4.2630 - val_loss: 4.3493\n",
            "Epoch 68/100\n",
            "\u001b[1m30/30\u001b[0m \u001b[32m━━━━━━━━━━━━━━━━━━━━\u001b[0m\u001b[37m\u001b[0m \u001b[1m0s\u001b[0m 2ms/step - attrition_output_accuracy: 0.8576 - attrition_output_loss: 0.0000e+00 - dept_output_accuracy: 0.5744 - dept_output_loss: 5.4598 - loss: 5.4536 - val_attrition_output_accuracy: 0.7966 - val_attrition_output_loss: 0.0000e+00 - val_dept_output_accuracy: 0.3559 - val_dept_output_loss: 10.9995 - val_loss: 11.0238\n",
            "Epoch 69/100\n",
            "\u001b[1m30/30\u001b[0m \u001b[32m━━━━━━━━━━━━━━━━━━━━\u001b[0m\u001b[37m\u001b[0m \u001b[1m0s\u001b[0m 3ms/step - attrition_output_accuracy: 0.8450 - attrition_output_loss: 0.0000e+00 - dept_output_accuracy: 0.4801 - dept_output_loss: 7.1551 - loss: 7.1540 - val_attrition_output_accuracy: 0.7966 - val_attrition_output_loss: 0.0000e+00 - val_dept_output_accuracy: 0.4746 - val_dept_output_loss: 4.3881 - val_loss: 4.4488\n",
            "Epoch 70/100\n",
            "\u001b[1m30/30\u001b[0m \u001b[32m━━━━━━━━━━━━━━━━━━━━\u001b[0m\u001b[37m\u001b[0m \u001b[1m0s\u001b[0m 2ms/step - attrition_output_accuracy: 0.8355 - attrition_output_loss: 0.0000e+00 - dept_output_accuracy: 0.5073 - dept_output_loss: 4.6810 - loss: 4.6825 - val_attrition_output_accuracy: 0.7966 - val_attrition_output_loss: 0.0000e+00 - val_dept_output_accuracy: 0.4576 - val_dept_output_loss: 2.1377 - val_loss: 2.1943\n",
            "Epoch 71/100\n",
            "\u001b[1m30/30\u001b[0m \u001b[32m━━━━━━━━━━━━━━━━━━━━\u001b[0m\u001b[37m\u001b[0m \u001b[1m0s\u001b[0m 3ms/step - attrition_output_accuracy: 0.8170 - attrition_output_loss: 0.0000e+00 - dept_output_accuracy: 0.5366 - dept_output_loss: 3.7197 - loss: 3.7158 - val_attrition_output_accuracy: 0.7966 - val_attrition_output_loss: 0.0000e+00 - val_dept_output_accuracy: 0.5508 - val_dept_output_loss: 4.5321 - val_loss: 4.5279\n",
            "Epoch 72/100\n",
            "\u001b[1m30/30\u001b[0m \u001b[32m━━━━━━━━━━━━━━━━━━━━\u001b[0m\u001b[37m\u001b[0m \u001b[1m0s\u001b[0m 3ms/step - attrition_output_accuracy: 0.8468 - attrition_output_loss: 0.0000e+00 - dept_output_accuracy: 0.5820 - dept_output_loss: 3.6939 - loss: 3.6921 - val_attrition_output_accuracy: 0.7966 - val_attrition_output_loss: 0.0000e+00 - val_dept_output_accuracy: 0.6314 - val_dept_output_loss: 5.7988 - val_loss: 5.8763\n",
            "Epoch 73/100\n",
            "\u001b[1m30/30\u001b[0m \u001b[32m━━━━━━━━━━━━━━━━━━━━\u001b[0m\u001b[37m\u001b[0m \u001b[1m0s\u001b[0m 2ms/step - attrition_output_accuracy: 0.8408 - attrition_output_loss: 0.0000e+00 - dept_output_accuracy: 0.5593 - dept_output_loss: 5.2787 - loss: 5.2774 - val_attrition_output_accuracy: 0.7966 - val_attrition_output_loss: 0.0000e+00 - val_dept_output_accuracy: 0.6314 - val_dept_output_loss: 6.1336 - val_loss: 6.3611\n",
            "Epoch 74/100\n",
            "\u001b[1m30/30\u001b[0m \u001b[32m━━━━━━━━━━━━━━━━━━━━\u001b[0m\u001b[37m\u001b[0m \u001b[1m0s\u001b[0m 2ms/step - attrition_output_accuracy: 0.8258 - attrition_output_loss: 0.0000e+00 - dept_output_accuracy: 0.5550 - dept_output_loss: 6.3636 - loss: 6.3672 - val_attrition_output_accuracy: 0.7966 - val_attrition_output_loss: 0.0000e+00 - val_dept_output_accuracy: 0.5678 - val_dept_output_loss: 7.4699 - val_loss: 7.7688\n",
            "Epoch 75/100\n",
            "\u001b[1m30/30\u001b[0m \u001b[32m━━━━━━━━━━━━━━━━━━━━\u001b[0m\u001b[37m\u001b[0m \u001b[1m0s\u001b[0m 3ms/step - attrition_output_accuracy: 0.8348 - attrition_output_loss: 0.0000e+00 - dept_output_accuracy: 0.5567 - dept_output_loss: 5.4405 - loss: 5.4372 - val_attrition_output_accuracy: 0.7966 - val_attrition_output_loss: 0.0000e+00 - val_dept_output_accuracy: 0.6314 - val_dept_output_loss: 4.3643 - val_loss: 4.5104\n",
            "Epoch 76/100\n",
            "\u001b[1m30/30\u001b[0m \u001b[32m━━━━━━━━━━━━━━━━━━━━\u001b[0m\u001b[37m\u001b[0m \u001b[1m0s\u001b[0m 2ms/step - attrition_output_accuracy: 0.8404 - attrition_output_loss: 0.0000e+00 - dept_output_accuracy: 0.5681 - dept_output_loss: 4.1335 - loss: 4.1200 - val_attrition_output_accuracy: 0.7966 - val_attrition_output_loss: 0.0000e+00 - val_dept_output_accuracy: 0.6314 - val_dept_output_loss: 12.3077 - val_loss: 12.4448\n",
            "Epoch 77/100\n",
            "\u001b[1m30/30\u001b[0m \u001b[32m━━━━━━━━━━━━━━━━━━━━\u001b[0m\u001b[37m\u001b[0m \u001b[1m0s\u001b[0m 3ms/step - attrition_output_accuracy: 0.8450 - attrition_output_loss: 0.0000e+00 - dept_output_accuracy: 0.6291 - dept_output_loss: 8.9630 - loss: 8.9732 - val_attrition_output_accuracy: 0.7966 - val_attrition_output_loss: 0.0000e+00 - val_dept_output_accuracy: 0.6314 - val_dept_output_loss: 12.0996 - val_loss: 12.3454\n",
            "Epoch 78/100\n",
            "\u001b[1m30/30\u001b[0m \u001b[32m━━━━━━━━━━━━━━━━━━━━\u001b[0m\u001b[37m\u001b[0m \u001b[1m0s\u001b[0m 2ms/step - attrition_output_accuracy: 0.8266 - attrition_output_loss: 0.0000e+00 - dept_output_accuracy: 0.4754 - dept_output_loss: 8.9917 - loss: 8.9912 - val_attrition_output_accuracy: 0.7966 - val_attrition_output_loss: 0.0000e+00 - val_dept_output_accuracy: 0.6314 - val_dept_output_loss: 12.3462 - val_loss: 12.3428\n",
            "Epoch 79/100\n",
            "\u001b[1m30/30\u001b[0m \u001b[32m━━━━━━━━━━━━━━━━━━━━\u001b[0m\u001b[37m\u001b[0m \u001b[1m0s\u001b[0m 2ms/step - attrition_output_accuracy: 0.8245 - attrition_output_loss: 0.0000e+00 - dept_output_accuracy: 0.6398 - dept_output_loss: 10.7989 - loss: 10.8046 - val_attrition_output_accuracy: 0.7966 - val_attrition_output_loss: 0.0000e+00 - val_dept_output_accuracy: 0.6229 - val_dept_output_loss: 5.2246 - val_loss: 5.3576\n",
            "Epoch 80/100\n",
            "\u001b[1m30/30\u001b[0m \u001b[32m━━━━━━━━━━━━━━━━━━━━\u001b[0m\u001b[37m\u001b[0m \u001b[1m0s\u001b[0m 2ms/step - attrition_output_accuracy: 0.8345 - attrition_output_loss: 0.0000e+00 - dept_output_accuracy: 0.6061 - dept_output_loss: 5.4528 - loss: 5.4552 - val_attrition_output_accuracy: 0.7966 - val_attrition_output_loss: 0.0000e+00 - val_dept_output_accuracy: 0.3220 - val_dept_output_loss: 5.0180 - val_loss: 4.9846\n",
            "Epoch 81/100\n",
            "\u001b[1m30/30\u001b[0m \u001b[32m━━━━━━━━━━━━━━━━━━━━\u001b[0m\u001b[37m\u001b[0m \u001b[1m0s\u001b[0m 2ms/step - attrition_output_accuracy: 0.8282 - attrition_output_loss: 0.0000e+00 - dept_output_accuracy: 0.5227 - dept_output_loss: 5.1930 - loss: 5.1876 - val_attrition_output_accuracy: 0.7966 - val_attrition_output_loss: 0.0000e+00 - val_dept_output_accuracy: 0.6144 - val_dept_output_loss: 10.1000 - val_loss: 10.1561\n",
            "Epoch 82/100\n",
            "\u001b[1m30/30\u001b[0m \u001b[32m━━━━━━━━━━━━━━━━━━━━\u001b[0m\u001b[37m\u001b[0m \u001b[1m0s\u001b[0m 3ms/step - attrition_output_accuracy: 0.8293 - attrition_output_loss: 0.0000e+00 - dept_output_accuracy: 0.5487 - dept_output_loss: 5.5945 - loss: 5.5978 - val_attrition_output_accuracy: 0.7966 - val_attrition_output_loss: 0.0000e+00 - val_dept_output_accuracy: 0.6398 - val_dept_output_loss: 2.2046 - val_loss: 2.2981\n",
            "Epoch 83/100\n",
            "\u001b[1m30/30\u001b[0m \u001b[32m━━━━━━━━━━━━━━━━━━━━\u001b[0m\u001b[37m\u001b[0m \u001b[1m0s\u001b[0m 2ms/step - attrition_output_accuracy: 0.8284 - attrition_output_loss: 0.0000e+00 - dept_output_accuracy: 0.5259 - dept_output_loss: 4.4719 - loss: 4.4754 - val_attrition_output_accuracy: 0.7966 - val_attrition_output_loss: 0.0000e+00 - val_dept_output_accuracy: 0.6314 - val_dept_output_loss: 4.8800 - val_loss: 4.9646\n",
            "Epoch 84/100\n",
            "\u001b[1m30/30\u001b[0m \u001b[32m━━━━━━━━━━━━━━━━━━━━\u001b[0m\u001b[37m\u001b[0m \u001b[1m0s\u001b[0m 2ms/step - attrition_output_accuracy: 0.8491 - attrition_output_loss: 0.0000e+00 - dept_output_accuracy: 0.5412 - dept_output_loss: 7.3572 - loss: 7.3638 - val_attrition_output_accuracy: 0.7966 - val_attrition_output_loss: 0.0000e+00 - val_dept_output_accuracy: 0.6314 - val_dept_output_loss: 4.6651 - val_loss: 4.7709\n",
            "Epoch 85/100\n",
            "\u001b[1m30/30\u001b[0m \u001b[32m━━━━━━━━━━━━━━━━━━━━\u001b[0m\u001b[37m\u001b[0m \u001b[1m0s\u001b[0m 2ms/step - attrition_output_accuracy: 0.8432 - attrition_output_loss: 0.0000e+00 - dept_output_accuracy: 0.5950 - dept_output_loss: 4.2305 - loss: 4.2153 - val_attrition_output_accuracy: 0.7966 - val_attrition_output_loss: 0.0000e+00 - val_dept_output_accuracy: 0.6314 - val_dept_output_loss: 15.6368 - val_loss: 15.8684\n",
            "Epoch 86/100\n",
            "\u001b[1m30/30\u001b[0m \u001b[32m━━━━━━━━━━━━━━━━━━━━\u001b[0m\u001b[37m\u001b[0m \u001b[1m0s\u001b[0m 2ms/step - attrition_output_accuracy: 0.8431 - attrition_output_loss: 0.0000e+00 - dept_output_accuracy: 0.6177 - dept_output_loss: 8.5322 - loss: 8.5298 - val_attrition_output_accuracy: 0.7966 - val_attrition_output_loss: 0.0000e+00 - val_dept_output_accuracy: 0.6314 - val_dept_output_loss: 7.7541 - val_loss: 7.8466\n",
            "Epoch 87/100\n",
            "\u001b[1m30/30\u001b[0m \u001b[32m━━━━━━━━━━━━━━━━━━━━\u001b[0m\u001b[37m\u001b[0m \u001b[1m0s\u001b[0m 3ms/step - attrition_output_accuracy: 0.8278 - attrition_output_loss: 0.0000e+00 - dept_output_accuracy: 0.6150 - dept_output_loss: 5.5556 - loss: 5.5604 - val_attrition_output_accuracy: 0.7966 - val_attrition_output_loss: 0.0000e+00 - val_dept_output_accuracy: 0.6356 - val_dept_output_loss: 3.8246 - val_loss: 4.0047\n",
            "Epoch 88/100\n",
            "\u001b[1m30/30\u001b[0m \u001b[32m━━━━━━━━━━━━━━━━━━━━\u001b[0m\u001b[37m\u001b[0m \u001b[1m0s\u001b[0m 3ms/step - attrition_output_accuracy: 0.8325 - attrition_output_loss: 0.0000e+00 - dept_output_accuracy: 0.5426 - dept_output_loss: 4.9691 - loss: 4.9489 - val_attrition_output_accuracy: 0.7966 - val_attrition_output_loss: 0.0000e+00 - val_dept_output_accuracy: 0.3263 - val_dept_output_loss: 8.8955 - val_loss: 9.1721\n",
            "Epoch 89/100\n",
            "\u001b[1m30/30\u001b[0m \u001b[32m━━━━━━━━━━━━━━━━━━━━\u001b[0m\u001b[37m\u001b[0m \u001b[1m0s\u001b[0m 3ms/step - attrition_output_accuracy: 0.8130 - attrition_output_loss: 0.0000e+00 - dept_output_accuracy: 0.5713 - dept_output_loss: 7.2467 - loss: 7.2407 - val_attrition_output_accuracy: 0.7966 - val_attrition_output_loss: 0.0000e+00 - val_dept_output_accuracy: 0.3263 - val_dept_output_loss: 9.4469 - val_loss: 9.5385\n",
            "Epoch 90/100\n",
            "\u001b[1m30/30\u001b[0m \u001b[32m━━━━━━━━━━━━━━━━━━━━\u001b[0m\u001b[37m\u001b[0m \u001b[1m0s\u001b[0m 2ms/step - attrition_output_accuracy: 0.8683 - attrition_output_loss: 0.0000e+00 - dept_output_accuracy: 0.4879 - dept_output_loss: 7.6307 - loss: 7.6295 - val_attrition_output_accuracy: 0.7966 - val_attrition_output_loss: 0.0000e+00 - val_dept_output_accuracy: 0.5212 - val_dept_output_loss: 10.5577 - val_loss: 10.6455\n",
            "Epoch 91/100\n",
            "\u001b[1m30/30\u001b[0m \u001b[32m━━━━━━━━━━━━━━━━━━━━\u001b[0m\u001b[37m\u001b[0m \u001b[1m0s\u001b[0m 3ms/step - attrition_output_accuracy: 0.8561 - attrition_output_loss: 0.0000e+00 - dept_output_accuracy: 0.5821 - dept_output_loss: 11.1238 - loss: 11.1309 - val_attrition_output_accuracy: 0.7966 - val_attrition_output_loss: 0.0000e+00 - val_dept_output_accuracy: 0.6356 - val_dept_output_loss: 2.7989 - val_loss: 2.8800\n",
            "Epoch 92/100\n",
            "\u001b[1m30/30\u001b[0m \u001b[32m━━━━━━━━━━━━━━━━━━━━\u001b[0m\u001b[37m\u001b[0m \u001b[1m0s\u001b[0m 2ms/step - attrition_output_accuracy: 0.8148 - attrition_output_loss: 0.0000e+00 - dept_output_accuracy: 0.5168 - dept_output_loss: 4.4999 - loss: 4.5004 - val_attrition_output_accuracy: 0.7966 - val_attrition_output_loss: 0.0000e+00 - val_dept_output_accuracy: 0.6314 - val_dept_output_loss: 6.4586 - val_loss: 6.7261\n",
            "Epoch 93/100\n",
            "\u001b[1m30/30\u001b[0m \u001b[32m━━━━━━━━━━━━━━━━━━━━\u001b[0m\u001b[37m\u001b[0m \u001b[1m0s\u001b[0m 2ms/step - attrition_output_accuracy: 0.8375 - attrition_output_loss: 0.0000e+00 - dept_output_accuracy: 0.5921 - dept_output_loss: 6.2712 - loss: 6.2689 - val_attrition_output_accuracy: 0.7966 - val_attrition_output_loss: 0.0000e+00 - val_dept_output_accuracy: 0.3220 - val_dept_output_loss: 7.8109 - val_loss: 7.8984\n",
            "Epoch 94/100\n",
            "\u001b[1m30/30\u001b[0m \u001b[32m━━━━━━━━━━━━━━━━━━━━\u001b[0m\u001b[37m\u001b[0m \u001b[1m0s\u001b[0m 2ms/step - attrition_output_accuracy: 0.8406 - attrition_output_loss: 0.0000e+00 - dept_output_accuracy: 0.5063 - dept_output_loss: 11.5343 - loss: 11.5253 - val_attrition_output_accuracy: 0.7966 - val_attrition_output_loss: 0.0000e+00 - val_dept_output_accuracy: 0.6314 - val_dept_output_loss: 10.3990 - val_loss: 10.5693\n",
            "Epoch 95/100\n",
            "\u001b[1m30/30\u001b[0m \u001b[32m━━━━━━━━━━━━━━━━━━━━\u001b[0m\u001b[37m\u001b[0m \u001b[1m0s\u001b[0m 3ms/step - attrition_output_accuracy: 0.8555 - attrition_output_loss: 0.0000e+00 - dept_output_accuracy: 0.5084 - dept_output_loss: 12.9292 - loss: 12.9316 - val_attrition_output_accuracy: 0.7966 - val_attrition_output_loss: 0.0000e+00 - val_dept_output_accuracy: 0.6271 - val_dept_output_loss: 8.5231 - val_loss: 8.7135\n",
            "Epoch 96/100\n",
            "\u001b[1m30/30\u001b[0m \u001b[32m━━━━━━━━━━━━━━━━━━━━\u001b[0m\u001b[37m\u001b[0m \u001b[1m0s\u001b[0m 2ms/step - attrition_output_accuracy: 0.8305 - attrition_output_loss: 0.0000e+00 - dept_output_accuracy: 0.5647 - dept_output_loss: 10.4045 - loss: 10.3998 - val_attrition_output_accuracy: 0.7966 - val_attrition_output_loss: 0.0000e+00 - val_dept_output_accuracy: 0.6144 - val_dept_output_loss: 3.3026 - val_loss: 3.4976\n",
            "Epoch 97/100\n",
            "\u001b[1m30/30\u001b[0m \u001b[32m━━━━━━━━━━━━━━━━━━━━\u001b[0m\u001b[37m\u001b[0m \u001b[1m0s\u001b[0m 2ms/step - attrition_output_accuracy: 0.8163 - attrition_output_loss: 0.0000e+00 - dept_output_accuracy: 0.5215 - dept_output_loss: 7.7725 - loss: 7.7758 - val_attrition_output_accuracy: 0.7966 - val_attrition_output_loss: 0.0000e+00 - val_dept_output_accuracy: 0.6229 - val_dept_output_loss: 10.7621 - val_loss: 10.8216\n",
            "Epoch 98/100\n",
            "\u001b[1m30/30\u001b[0m \u001b[32m━━━━━━━━━━━━━━━━━━━━\u001b[0m\u001b[37m\u001b[0m \u001b[1m0s\u001b[0m 2ms/step - attrition_output_accuracy: 0.8572 - attrition_output_loss: 0.0000e+00 - dept_output_accuracy: 0.5680 - dept_output_loss: 10.1395 - loss: 10.1419 - val_attrition_output_accuracy: 0.7966 - val_attrition_output_loss: 0.0000e+00 - val_dept_output_accuracy: 0.6356 - val_dept_output_loss: 2.8183 - val_loss: 2.8972\n",
            "Epoch 99/100\n",
            "\u001b[1m30/30\u001b[0m \u001b[32m━━━━━━━━━━━━━━━━━━━━\u001b[0m\u001b[37m\u001b[0m \u001b[1m0s\u001b[0m 3ms/step - attrition_output_accuracy: 0.8589 - attrition_output_loss: 0.0000e+00 - dept_output_accuracy: 0.5662 - dept_output_loss: 6.8876 - loss: 6.8841 - val_attrition_output_accuracy: 0.7966 - val_attrition_output_loss: 0.0000e+00 - val_dept_output_accuracy: 0.3263 - val_dept_output_loss: 16.8573 - val_loss: 17.0555\n",
            "Epoch 100/100\n",
            "\u001b[1m30/30\u001b[0m \u001b[32m━━━━━━━━━━━━━━━━━━━━\u001b[0m\u001b[37m\u001b[0m \u001b[1m0s\u001b[0m 2ms/step - attrition_output_accuracy: 0.8366 - attrition_output_loss: 0.0000e+00 - dept_output_accuracy: 0.5306 - dept_output_loss: 8.9132 - loss: 8.9079 - val_attrition_output_accuracy: 0.7966 - val_attrition_output_loss: 0.0000e+00 - val_dept_output_accuracy: 0.6314 - val_dept_output_loss: 9.6144 - val_loss: 9.7150\n"
          ]
        }
      ],
      "source": [
        "# Train the model\n",
        "y_train_dept = pd.get_dummies(y_train['Department'])  # One-hot encode Department\n",
        "y_train_attrition = y_train['Attrition'].map({'No': 0, 'Yes': 1})  # Binary encode Attrition\n",
        "\n",
        "y_test_dept = pd.get_dummies(y_test['Department'])  # One-hot encode Department\n",
        "y_test_attrition = y_test['Attrition'].map({'No': 0, 'Yes': 1})  # Binary encode Attrition\n",
        "history = model.fit(\n",
        "    X_train_scaled, \n",
        "    [y_train_dept, y_train_attrition],\n",
        "    validation_split=0.2,\n",
        "    epochs=100,\n",
        "    batch_size=32,\n",
        "    verbose=1\n",
        ")"
      ]
    },
    {
      "cell_type": "code",
      "execution_count": 151,
      "metadata": {
        "colab": {
          "base_uri": "https://localhost:8080/"
        },
        "id": "VsMoaQlgGc3U",
        "outputId": "1bd4e601-e964-4abc-ad83-aeecf6b696be"
      },
      "outputs": [],
      "source": [
        "# Evaluate the model with the testing data\n",
        "test_loss, test_dept_loss, test_attrition_loss, test_dept_acc, test_attrition_acc = model.evaluate(\n",
        "    X_test_scaled, \n",
        "    [y_test_dept, y_test_attrition],\n",
        "    verbose=0\n",
        ")\n"
      ]
    },
    {
      "cell_type": "code",
      "execution_count": 152,
      "metadata": {
        "colab": {
          "base_uri": "https://localhost:8080/"
        },
        "id": "ZlCtlHi0Vt54",
        "outputId": "bc21ef3e-80c2-4b38-9c29-79515bc23dec"
      },
      "outputs": [
        {
          "name": "stdout",
          "output_type": "stream",
          "text": [
            "Model Evaluation on Test Data:\n",
            "Total test loss: 8.9982\n",
            "Department test loss: 8.8402\n",
            "Attrition test loss: 0.0000\n",
            "Department test accuracy: 0.8673\n",
            "Attrition test accuracy: 0.6667\n"
          ]
        }
      ],
      "source": [
        "# Print the accuracy for both department and attrition\n",
        "print(\"Model Evaluation on Test Data:\")\n",
        "print(f\"Total test loss: {test_loss:.4f}\")\n",
        "print(f\"Department test loss: {test_dept_loss:.4f}\")\n",
        "print(f\"Attrition test loss: {test_attrition_loss:.4f}\")\n",
        "print(f\"Department test accuracy: {test_dept_acc:.4f}\")\n",
        "print(f\"Attrition test accuracy: {test_attrition_acc:.4f}\")"
      ]
    },
    {
      "cell_type": "markdown",
      "metadata": {
        "id": "eGSyfsZfWOQM"
      },
      "source": [
        "# Summary\n",
        "\n",
        "In the provided space below, briefly answer the following questions.\n",
        "\n",
        "1. Is accuracy the best metric to use on this data? Why or why not?\n",
        "\n",
        "2. What activation functions did you choose for your output layers, and why?\n",
        "\n",
        "3. Can you name a few ways that this model might be improved?"
      ]
    },
    {
      "cell_type": "markdown",
      "metadata": {
        "id": "pi9SLpFnWvbF"
      },
      "source": [
        "YOUR ANSWERS HERE\n",
        "\n",
        "1. Accuracy might not be the best metric for this data, especially for the Attrition prediction. The reason behind this is there can be an imbalance of classes. For example if 85% of your employees stay then thre model predicts stay would have a 85% accuracy and would not be useful in prediction ppl that would leave.\n",
        "\n",
        "2.For the output layers, I chose Softmax for department because it was a multi-class classification and it allows the model to assign probabilities to each department for a given input.\n",
        "I chose Sigmoid for attrtion because it was a binary classification. The value of 0 and 1 works well when interpreting the probability of someone staying or leaving\n",
        "\n",
        "3. Feature Engineering, Class Imbalance, Ensemble Methods"
      ]
    },
    {
      "cell_type": "markdown",
      "metadata": {},
      "source": []
    }
  ],
  "metadata": {
    "colab": {
      "provenance": []
    },
    "kernelspec": {
      "display_name": "Python 3",
      "language": "python",
      "name": "python3"
    },
    "language_info": {
      "codemirror_mode": {
        "name": "ipython",
        "version": 3
      },
      "file_extension": ".py",
      "mimetype": "text/x-python",
      "name": "python",
      "nbconvert_exporter": "python",
      "pygments_lexer": "ipython3",
      "version": "3.10.6"
    },
    "vscode": {
      "interpreter": {
        "hash": "31f2aee4e71d21fbe5cf8b01ff0e069b9275f58929596ceb00d14d90e3e16cd6"
      }
    }
  },
  "nbformat": 4,
  "nbformat_minor": 0
}
